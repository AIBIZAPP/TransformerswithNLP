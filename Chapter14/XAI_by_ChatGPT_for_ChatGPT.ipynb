{
  "nbformat": 4,
  "nbformat_minor": 0,
  "metadata": {
    "colab": {
      "provenance": [],
      "toc_visible": true
    },
    "kernelspec": {
      "name": "python3",
      "display_name": "Python 3"
    },
    "language_info": {
      "name": "python"
    }
  },
  "cells": [
    {
      "cell_type": "markdown",
      "source": [
        "#Explainable AI by ChatGPT for ChatGPT\n",
        "Copyright 2023 Denis Rothman, MIT License\n",
        "\n",
        "**First level Explainable AI(XAI)**\n",
        "\n",
        "This notebook introduces first level explainable AI by GPT-4 for GPT-4. It shows how you can invent tasks through prompt engineering. Your imagination is the limit.\n",
        "\n",
        "The notebook will take you from an introduction with ChatGPT to explainable AI with ChatGPT:\n",
        "\n",
        "- Introduction Dialog with ChatGPT\n",
        "- First level XAI\n",
        "- Sentiment Analyis and XAI\n",
        "- SHAP for XAI\n",
        "- Next Steps\n",
        "\n",
        "**NOTE**: This notebook is a general purpose notebook to show the potential of ChatGPT for first level XAI. The results may or may not be perfect and may require more prompt engineering."
      ],
      "metadata": {
        "id": "b_QjF04i9neT"
      }
    },
    {
      "cell_type": "markdown",
      "source": [
        "Denis Rothman: What is Explainable AI?"
      ],
      "metadata": {
        "id": "2chPJJqaZ-1O"
      }
    },
    {
      "cell_type": "markdown",
      "source": [
        "#Introduction Dialog with ChatGPT\n",
        "\n",
        "**Denis Rothman: What is Explainable AI?**\n",
        "\n",
        "**ChatGPT:** \n",
        "\n",
        "Explainable AI (XAI) refers to a subfield of artificial intelligence focused on developing techniques and methods that make the decision-making process of AI systems more transparent, interpretable, and understandable by humans. Traditional AI systems, particularly deep learning models like neural networks, are often considered \"black boxes\" because it is difficult to comprehend how they arrive at specific outcomes or predictions.\n",
        "\n",
        "The primary goal of Explainable AI is to bridge this gap, enabling human users to trust and engage with AI systems more effectively. This is particularly important in critical domains, such as healthcare, finance, and law enforcement, where understanding the rationale behind AI-generated decisions is crucial for ethical and legal reasons.\n",
        "\n",
        "Some key components and approaches in Explainable AI include:\n",
        "\n",
        "Interpretable models: Designing AI systems that are inherently more interpretable and less complex, such as decision trees or linear models, while still maintaining performance.\n",
        "Post-hoc explanations: Generating explanations after a model has made a prediction. Techniques like LIME (Local Interpretable Model-agnostic Explanations) and SHAP (SHapley Additive exPlanations) are examples of post-hoc explanation methods.\n",
        "Visualizations: Creating visual representations of the inner workings of an AI model, which can help users understand the relationships between input features and the model's predictions.\n",
        "Rule extraction: Converting the knowledge embedded in a complex AI model into human-understandable rules or decision-making processes.\n",
        "By enhancing the transparency and interpretability of AI systems, Explainable AI aims to increase trust in AI, facilitate more effective collaboration between humans and machines, and ensure that AI-driven decisions are ethical, fair, and accountable."
      ],
      "metadata": {
        "id": "Y_6nEHD-aEkU"
      }
    },
    {
      "cell_type": "markdown",
      "source": [
        "GPT-3.5-turbo provides explanations in sentiment analysis such as the reasons for a sentiment analysis such as \"ChatGPT response: Positive sentiment words: wonderful, light-hearted, witty, likable, fully in control, grown to love, wittier, interesting, great. \" Can we consider this as explainable AI?"
      ],
      "metadata": {
        "id": "5p9NudM0aKsV"
      }
    },
    {
      "cell_type": "markdown",
      "source": [
        "ChatGPT:Yes, the example you provided can be considered a form of Explainable AI, albeit a relatively simple one. When GPT-3.5-turbo generates explanations for sentiment analysis by highlighting the positive and negative words contributing to the overall sentiment, it is effectively offering a level of transparency and interpretability into the reasoning behind its predictions.\n",
        "\n",
        "However, it's important to note that the explanations provided by GPT-3.5-turbo may not be as comprehensive or rigorous as those produced by specialized Explainable AI techniques like LIME or SHAP. In this case, the explanations are primarily based on the presence of specific words or phrases in the input text, which may not always capture the full complexity of the model's decision-making process.\n",
        "\n",
        "Nonetheless, these simplified explanations can still be helpful in many situations where users need a quick and intuitive understanding of the model's output, and they contribute to increasing trust and interpretability in AI systems."
      ],
      "metadata": {
        "id": "21GvkgmJaOak"
      }
    },
    {
      "cell_type": "markdown",
      "source": [
        "#First level XAI"
      ],
      "metadata": {
        "id": "xKrHp-g8anhj"
      }
    },
    {
      "cell_type": "markdown",
      "source": [
        "## Installing openai and API key"
      ],
      "metadata": {
        "id": "ygFUriSCvTNb"
      }
    },
    {
      "cell_type": "code",
      "source": [
        "!pip install --upgrade pip"
      ],
      "metadata": {
        "id": "lUn5YJeQvy-F",
        "colab": {
          "base_uri": "https://localhost:8080/"
        },
        "outputId": "49d925c9-f2cb-4c84-c599-3ab5fe18155b"
      },
      "execution_count": 9,
      "outputs": [
        {
          "output_type": "stream",
          "name": "stdout",
          "text": [
            "Looking in indexes: https://pypi.org/simple, https://us-python.pkg.dev/colab-wheels/public/simple/\n",
            "Requirement already satisfied: pip in /usr/local/lib/python3.9/dist-packages (22.0.4)\n",
            "Collecting pip\n",
            "  Downloading pip-23.0.1-py3-none-any.whl (2.1 MB)\n",
            "\u001b[2K     \u001b[90m━━━━━━━━━━━━━━━━━━━━━━━━━━━━━━━━━━━━━━━━\u001b[0m \u001b[32m2.1/2.1 MB\u001b[0m \u001b[31m22.7 MB/s\u001b[0m eta \u001b[36m0:00:00\u001b[0m\n",
            "\u001b[?25hInstalling collected packages: pip\n",
            "  Attempting uninstall: pip\n",
            "    Found existing installation: pip 22.0.4\n",
            "    Uninstalling pip-22.0.4:\n",
            "      Successfully uninstalled pip-22.0.4\n",
            "Successfully installed pip-23.0.1\n"
          ]
        }
      ]
    },
    {
      "cell_type": "code",
      "execution_count": 10,
      "metadata": {
        "id": "9G79pIy_Mg5Y",
        "colab": {
          "base_uri": "https://localhost:8080/"
        },
        "outputId": "a5183601-22cc-4d90-a057-c81409bfa36e"
      },
      "outputs": [
        {
          "output_type": "stream",
          "name": "stdout",
          "text": [
            "Looking in indexes: https://pypi.org/simple, https://us-python.pkg.dev/colab-wheels/public/simple/\n",
            "Collecting openai\n",
            "  Downloading openai-0.27.2-py3-none-any.whl (70 kB)\n",
            "\u001b[2K     \u001b[90m━━━━━━━━━━━━━━━━━━━━━━━━━━━━━━━━━━━━━━━━\u001b[0m \u001b[32m70.1/70.1 kB\u001b[0m \u001b[31m2.9 MB/s\u001b[0m eta \u001b[36m0:00:00\u001b[0m\n",
            "\u001b[?25hCollecting aiohttp\n",
            "  Downloading aiohttp-3.8.4-cp39-cp39-manylinux_2_17_x86_64.manylinux2014_x86_64.whl (1.0 MB)\n",
            "\u001b[2K     \u001b[90m━━━━━━━━━━━━━━━━━━━━━━━━━━━━━━━━━━━━━━━━\u001b[0m \u001b[32m1.0/1.0 MB\u001b[0m \u001b[31m20.2 MB/s\u001b[0m eta \u001b[36m0:00:00\u001b[0m\n",
            "\u001b[?25hRequirement already satisfied: tqdm in /usr/local/lib/python3.9/dist-packages (from openai) (4.65.0)\n",
            "Requirement already satisfied: requests>=2.20 in /usr/local/lib/python3.9/dist-packages (from openai) (2.27.1)\n",
            "Requirement already satisfied: idna<4,>=2.5 in /usr/local/lib/python3.9/dist-packages (from requests>=2.20->openai) (3.4)\n",
            "Requirement already satisfied: urllib3<1.27,>=1.21.1 in /usr/local/lib/python3.9/dist-packages (from requests>=2.20->openai) (1.26.15)\n",
            "Requirement already satisfied: certifi>=2017.4.17 in /usr/local/lib/python3.9/dist-packages (from requests>=2.20->openai) (2022.12.7)\n",
            "Requirement already satisfied: charset-normalizer~=2.0.0 in /usr/local/lib/python3.9/dist-packages (from requests>=2.20->openai) (2.0.12)\n",
            "Collecting aiosignal>=1.1.2\n",
            "  Downloading aiosignal-1.3.1-py3-none-any.whl (7.6 kB)\n",
            "Requirement already satisfied: attrs>=17.3.0 in /usr/local/lib/python3.9/dist-packages (from aiohttp->openai) (22.2.0)\n",
            "Collecting async-timeout<5.0,>=4.0.0a3\n",
            "  Downloading async_timeout-4.0.2-py3-none-any.whl (5.8 kB)\n",
            "Collecting frozenlist>=1.1.1\n",
            "  Downloading frozenlist-1.3.3-cp39-cp39-manylinux_2_5_x86_64.manylinux1_x86_64.manylinux_2_17_x86_64.manylinux2014_x86_64.whl (158 kB)\n",
            "\u001b[2K     \u001b[90m━━━━━━━━━━━━━━━━━━━━━━━━━━━━━━━━━━━━━━\u001b[0m \u001b[32m158.8/158.8 kB\u001b[0m \u001b[31m18.8 MB/s\u001b[0m eta \u001b[36m0:00:00\u001b[0m\n",
            "\u001b[?25hCollecting multidict<7.0,>=4.5\n",
            "  Downloading multidict-6.0.4-cp39-cp39-manylinux_2_17_x86_64.manylinux2014_x86_64.whl (114 kB)\n",
            "\u001b[2K     \u001b[90m━━━━━━━━━━━━━━━━━━━━━━━━━━━━━━━━━━━━━━\u001b[0m \u001b[32m114.2/114.2 kB\u001b[0m \u001b[31m14.7 MB/s\u001b[0m eta \u001b[36m0:00:00\u001b[0m\n",
            "\u001b[?25hCollecting yarl<2.0,>=1.0\n",
            "  Downloading yarl-1.8.2-cp39-cp39-manylinux_2_17_x86_64.manylinux2014_x86_64.whl (264 kB)\n",
            "\u001b[2K     \u001b[90m━━━━━━━━━━━━━━━━━━━━━━━━━━━━━━━━━━━━━━\u001b[0m \u001b[32m264.6/264.6 kB\u001b[0m \u001b[31m16.5 MB/s\u001b[0m eta \u001b[36m0:00:00\u001b[0m\n",
            "\u001b[?25hInstalling collected packages: multidict, frozenlist, async-timeout, yarl, aiosignal, aiohttp, openai\n",
            "Successfully installed aiohttp-3.8.4 aiosignal-1.3.1 async-timeout-4.0.2 frozenlist-1.3.3 multidict-6.0.4 openai-0.27.2 yarl-1.8.2\n",
            "\u001b[33mWARNING: Running pip as the 'root' user can result in broken permissions and conflicting behaviour with the system package manager. It is recommended to use a virtual environment instead: https://pip.pypa.io/warnings/venv\u001b[0m\u001b[33m\n",
            "\u001b[0m"
          ]
        }
      ],
      "source": [
        "#Importing openai\n",
        "try:\n",
        "  import openai\n",
        "except:\n",
        "  !pip install openai\n",
        "  import openai"
      ]
    },
    {
      "cell_type": "markdown",
      "source": [
        "API Key"
      ],
      "metadata": {
        "id": "R7YHxHaLmAEi"
      }
    },
    {
      "cell_type": "code",
      "source": [
        "#2.API Key\n",
        "#Store you key in a file and read it(you can type it directly in the notebook but it will be visible for somebody next to you)\n",
        "from google.colab import drive\n",
        "drive.mount('/content/drive')\n",
        "f = open(\"drive/MyDrive/files/api_key.txt\", \"r\")\n",
        "API_KEY=f.readline()\n",
        "f.close()\n",
        "\n",
        "#The OpenAI Key\n",
        "import os\n",
        "os.environ['OPENAI_API_KEY'] =API_KEY\n",
        "openai.api_key = os.getenv(\"OPENAI_API_KEY\")"
      ],
      "metadata": {
        "colab": {
          "base_uri": "https://localhost:8080/"
        },
        "id": "Eb6gFplQqU5v",
        "outputId": "1b745501-a58e-4332-ec6d-71a8c33e940e"
      },
      "execution_count": 11,
      "outputs": [
        {
          "output_type": "stream",
          "name": "stdout",
          "text": [
            "Mounted at /content/drive\n"
          ]
        }
      ]
    },
    {
      "cell_type": "markdown",
      "source": [
        "## Dataset\n",
        "\n",
        "The goal of the dataset is to run sentiment analysis.\n",
        "\n",
        "The dataset consists of five movie reviews. The first three come from the [Kaggle movie review dataset](https://www.kaggle.com/datasets/lakshmi25npathi/imdb-dataset-of-50k-movie-reviews). The two last ones were created for this notebook.\n",
        "\n",
        "You can replace the data by social media posts, e-commerce comments or any other text.\n",
        "\n",
        "Note: the dataset is small because OpenAI API requests are not free. Always keep an eye on your API budget.\n"
      ],
      "metadata": {
        "id": "U03EQHLtmZLl"
      }
    },
    {
      "cell_type": "markdown",
      "source": [
        "This first list contains the raw data(reviews) without the prompt."
      ],
      "metadata": {
        "id": "DlBBJz6n_-El"
      }
    },
    {
      "cell_type": "code",
      "source": [
        "mreviews = []\n",
        "mreviews.append(\"A wonderful little production. The filming technique is very unassuming- very old-time-BBC fashion and gives a comforting, and sometimes discomforting, sense of realism to the entire piece. The actors are extremely well chosen- Michael Sheen not only has got all the polari but he has all the voices down pat too! You can truly see the seamless editing guided by the references to Williams' diary entries, not only is it well worth the watching but it is a terrificly written and performed piece. A masterful production about one of the great master's of comedy and his life. The realism really comes home with the little things: the fantasy of the guard which, rather than use the traditional 'dream' techniques remains solid then disappears. It plays on our knowledge and our senses, particularly with the scenes concerning Orton and Halliwell and the sets (particularly of their flat with Halliwell's murals decorating every surface) are terribly well done.\")\n",
        "mreviews.append(\"I thought this was a wonderful way to spend time on a too hot summer weekend sitting in the air conditioned theater and watching a light-hearted comedy. The plot is simplistic, but the dialogue is witty and the characters are likable (even the well bread suspected serial killer). While some may be disappointed when they realize this is not Match Point 2: Risk Addiction, I thought it was proof that Woody Allen is still fully in control of the style many of us have grown to love.This was the most I'd laughed at one of Woody's comedies in years (dare I say a decade?). While I've never been impressed with Scarlet Johanson, in this she managed to tone down her sexy image and jumped right into a average, but spirited young woman.This may not be the crown jewel of his career, but it was wittier than Devil Wears Prada and more interesting than Superman a great comedy to go see with friends.\")\n",
        "mreviews.append(\"Petter Matteis Love in the Time of Money is a visually stunning film to watch. Mr. Mattei offers us a vivid portrait about human relations. This is a movie that seems to be telling us what money, power and success do to people in the different situations we encounter. This being a variation on the Arthur Schnitzler's play about the same theme, the director transfers the action to the present time New York where all these different characters meet and connect. Each one is connected in one way, or another to the next person, but no one seems to know the previous point of contact. Stylishly, the film has a sophisticated luxurious look. We are taken to see how these people live and the world they live in their own habitat.The only thing one gets out of all these souls in the picture is the different stages of loneliness each one inhabits. A big city is not exactly the best place in which human relations find sincere fulfillment, as one discerns is the case with most of the people we encounter.The acting is good under Mr. Mattei's direction. Steve Buscemi, Rosario Dawson, Carol Kane, Michael Imperioli, Adrian Grenier, and the rest of the talented cast, make these characters come alive.We wish Mr. Mattei good luck and await anxiously for his next work.\")\n",
        "mreviews.append(\"This was  a horrible movie. I hated it. It doesn't make sense although I admit the actors were excellent\")\n",
        "mreviews.append(\"I really want to go back and see this one again. The plot was cool and well written. They have a fantastic imagination and the actors were terrific\")"
      ],
      "metadata": {
        "id": "I8Xu8g7DPbwE"
      },
      "execution_count": 12,
      "outputs": []
    },
    {
      "cell_type": "markdown",
      "source": [
        "This second list contains the instruction provided and the sentence to be analyzed. The variable `rev` shows how you put phrases together to obtain any type of prompt you wish."
      ],
      "metadata": {
        "id": "DPHXtHXb_UjA"
      }
    },
    {
      "cell_type": "code",
      "source": [
        "reviews = []\n",
        "#rev=\"Which words in this sentence  show its a positive or negative sentiment: \" + \"A wonderful little production. The filming technique is very unassuming- very old-time-BBC fashion and gives a comforting, and sometimes discomforting, sense of realism to the entire piece. The actors are extremely well chosen- Michael Sheen not only has got all the polari but he has all the voices down pat too! You can truly see the seamless editing guided by the references to Williams' diary entries, not only is it well worth the watching but it is a terrificly written and performed piece. A masterful production about one of the great master's of comedy and his life. The realism really comes home with the little things: the fantasy of the guard which, rather than use the traditional 'dream' techniques remains solid then disappears. It plays on our knowledge and our senses, particularly with the scenes concerning Orton and Halliwell and the sets (particularly of their flat with Halliwell's murals decorating every surface) are terribly well done.\"\n",
        "reviews.append(\"Which words in this sentence  show its a positive or negative sentiment: A wonderful little production. The filming technique is very unassuming- very old-time-BBC fashion and gives a comforting, and sometimes discomforting, sense of realism to the entire piece. The actors are extremely well chosen- Michael Sheen not only has got all the polari but he has all the voices down pat too! You can truly see the seamless editing guided by the references to Williams' diary entries, not only is it well worth the watching but it is a terrificly written and performed piece. A masterful production about one of the great master's of comedy and his life. The realism really comes home with the little things: the fantasy of the guard which, rather than use the traditional 'dream' techniques remains solid then disappears. It plays on our knowledge and our senses, particularly with the scenes concerning Orton and Halliwell and the sets (particularly of their flat with Halliwell's murals decorating every surface) are terribly well done.\")\n",
        "reviews.append(\"Which words in this sentence  show its a positive or negative sentiment: I thought this was a wonderful way to spend time on a too hot summer weekend sitting in the air conditioned theater and watching a light-hearted comedy. The plot is simplistic, but the dialogue is witty and the characters are likable (even the well bread suspected serial killer). While some may be disappointed when they realize this is not Match Point 2: Risk Addiction, I thought it was proof that Woody Allen is still fully in control of the style many of us have grown to love.This was the most I'd laughed at one of Woody's comedies in years (dare I say a decade?). While I've never been impressed with Scarlet Johanson, in this she managed to tone down her sexy image and jumped right into a average, but spirited young woman.This may not be the crown jewel of his career, but it was wittier than Devil Wears Prada and more interesting than Superman a great comedy to go see with friends.\")\n",
        "reviews.append(\"Which words in this sentence  show its a positive or negative sentiment: Petter Matteis Love in the Time of Money is a visually stunning film to watch. Mr. Mattei offers us a vivid portrait about human relations. This is a movie that seems to be telling us what money, power and success do to people in the different situations we encounter. This being a variation on the Arthur Schnitzler's play about the same theme, the director transfers the action to the present time New York where all these different characters meet and connect. Each one is connected in one way, or another to the next person, but no one seems to know the previous point of contact. Stylishly, the film has a sophisticated luxurious look. We are taken to see how these people live and the world they live in their own habitat.The only thing one gets out of all these souls in the picture is the different stages of loneliness each one inhabits. A big city is not exactly the best place in which human relations find sincere fulfillment, as one discerns is the case with most of the people we encounter.The acting is good under Mr. Mattei's direction. Steve Buscemi, Rosario Dawson, Carol Kane, Michael Imperioli, Adrian Grenier, and the rest of the talented cast, make these characters come alive.We wish Mr. Mattei good luck and await anxiously for his next work.\")\n",
        "reviews.append(\"Which words in this sentence  show its a positive or negative sentiment: This was  a horrible movie. I hated it. It doesn't make sense although I admit the actors were excellent\")\n",
        "reviews.append(\"Which words in this sentence  show its a positive or negative sentiment: I really want to go back and see this one again. The plot was cool and well written. They have a fantastic imagination and the actors were terrific\")"
      ],
      "metadata": {
        "id": "um3PJjm3mM0u"
      },
      "execution_count": 13,
      "outputs": []
    },
    {
      "cell_type": "markdown",
      "source": [
        "##Sentiment Analysis"
      ],
      "metadata": {
        "id": "_6KHOsRSUqhG"
      }
    },
    {
      "cell_type": "code",
      "source": [
        "reviews"
      ],
      "metadata": {
        "id": "4VK0Rt6yoDQm",
        "colab": {
          "base_uri": "https://localhost:8080/"
        },
        "outputId": "333307dc-2d8c-4bce-bab1-a443ff9dc9e5"
      },
      "execution_count": 14,
      "outputs": [
        {
          "output_type": "execute_result",
          "data": {
            "text/plain": [
              "[\"Which words in this sentence  show its a positive or negative sentiment: A wonderful little production. The filming technique is very unassuming- very old-time-BBC fashion and gives a comforting, and sometimes discomforting, sense of realism to the entire piece. The actors are extremely well chosen- Michael Sheen not only has got all the polari but he has all the voices down pat too! You can truly see the seamless editing guided by the references to Williams' diary entries, not only is it well worth the watching but it is a terrificly written and performed piece. A masterful production about one of the great master's of comedy and his life. The realism really comes home with the little things: the fantasy of the guard which, rather than use the traditional 'dream' techniques remains solid then disappears. It plays on our knowledge and our senses, particularly with the scenes concerning Orton and Halliwell and the sets (particularly of their flat with Halliwell's murals decorating every surface) are terribly well done.\",\n",
              " \"Which words in this sentence  show its a positive or negative sentiment: I thought this was a wonderful way to spend time on a too hot summer weekend sitting in the air conditioned theater and watching a light-hearted comedy. The plot is simplistic, but the dialogue is witty and the characters are likable (even the well bread suspected serial killer). While some may be disappointed when they realize this is not Match Point 2: Risk Addiction, I thought it was proof that Woody Allen is still fully in control of the style many of us have grown to love.This was the most I'd laughed at one of Woody's comedies in years (dare I say a decade?). While I've never been impressed with Scarlet Johanson, in this she managed to tone down her sexy image and jumped right into a average, but spirited young woman.This may not be the crown jewel of his career, but it was wittier than Devil Wears Prada and more interesting than Superman a great comedy to go see with friends.\",\n",
              " \"Which words in this sentence  show its a positive or negative sentiment: Petter Matteis Love in the Time of Money is a visually stunning film to watch. Mr. Mattei offers us a vivid portrait about human relations. This is a movie that seems to be telling us what money, power and success do to people in the different situations we encounter. This being a variation on the Arthur Schnitzler's play about the same theme, the director transfers the action to the present time New York where all these different characters meet and connect. Each one is connected in one way, or another to the next person, but no one seems to know the previous point of contact. Stylishly, the film has a sophisticated luxurious look. We are taken to see how these people live and the world they live in their own habitat.The only thing one gets out of all these souls in the picture is the different stages of loneliness each one inhabits. A big city is not exactly the best place in which human relations find sincere fulfillment, as one discerns is the case with most of the people we encounter.The acting is good under Mr. Mattei's direction. Steve Buscemi, Rosario Dawson, Carol Kane, Michael Imperioli, Adrian Grenier, and the rest of the talented cast, make these characters come alive.We wish Mr. Mattei good luck and await anxiously for his next work.\",\n",
              " \"Which words in this sentence  show its a positive or negative sentiment: This was  a horrible movie. I hated it. It doesn't make sense although I admit the actors were excellent\",\n",
              " 'Which words in this sentence  show its a positive or negative sentiment: I really want to go back and see this one again. The plot was cool and well written. They have a fantastic imagination and the actors were terrific']"
            ]
          },
          "metadata": {},
          "execution_count": 14
        }
      ]
    },
    {
      "cell_type": "markdown",
      "source": [
        "###Preparing the prompt \n",
        "\n",
        "You can use three roles: the system (general instruction, the assistant(providing more information), the user(the actual request) "
      ],
      "metadata": {
        "id": "qocZpEWAUjiV"
      }
    },
    {
      "cell_type": "code",
      "source": [
        "def prepare_message(prompt):\n",
        "\n",
        " uinput = prompt\n",
        "\n",
        " #preparing the prompt for OpenAI \n",
        " role=\"user\"\n",
        "\n",
        " line = {\"role\": role, \"content\": uinput}\n",
        " \n",
        " #creating the mesage\n",
        " assert1={\"role\": \"system\", \"content\": \"You are a helpful sentiment analysis system.\"}\n",
        " assert2={\"role\": \"assistant\", \"content\": \"Provide positive or negative sentiment analysis.\"}\n",
        " assert3=line\n",
        " iprompt = []\n",
        " iprompt.append(assert1)\n",
        " iprompt.append(assert2)\n",
        " iprompt.append(assert3)\n",
        "\n",
        " return iprompt"
      ],
      "metadata": {
        "id": "wl_ih8tPqebL"
      },
      "execution_count": 15,
      "outputs": []
    },
    {
      "cell_type": "markdown",
      "source": [
        "### Response and explanation"
      ],
      "metadata": {
        "id": "ewmgRfH-bOZE"
      }
    },
    {
      "cell_type": "code",
      "source": [
        "sentiments=[]\n",
        "l=len(reviews)\n",
        "for revnum in range(0,l):\n",
        "  prompt = reviews[revnum]\n",
        "  iprompt=prepare_message(prompt) #preparing the messages for ChatGPT\n",
        "  response=openai.ChatCompletion.create(model=\"gpt-3.5-turbo\",messages=iprompt) #ChatGPT request\n",
        "  text=response[\"choices\"][0][\"message\"][\"content\"] #response in JSON\n",
        "  print(mreviews[revnum])\n",
        "  print(\"ChatGPT response:\",text)\n",
        "  sentiments.append(text)\n"
      ],
      "metadata": {
        "id": "RCZg84cKkT__",
        "colab": {
          "base_uri": "https://localhost:8080/"
        },
        "outputId": "7eeec498-5906-4025-ef2a-f5c098500162"
      },
      "execution_count": 16,
      "outputs": [
        {
          "output_type": "stream",
          "name": "stdout",
          "text": [
            "A wonderful little production. The filming technique is very unassuming- very old-time-BBC fashion and gives a comforting, and sometimes discomforting, sense of realism to the entire piece. The actors are extremely well chosen- Michael Sheen not only has got all the polari but he has all the voices down pat too! You can truly see the seamless editing guided by the references to Williams' diary entries, not only is it well worth the watching but it is a terrificly written and performed piece. A masterful production about one of the great master's of comedy and his life. The realism really comes home with the little things: the fantasy of the guard which, rather than use the traditional 'dream' techniques remains solid then disappears. It plays on our knowledge and our senses, particularly with the scenes concerning Orton and Halliwell and the sets (particularly of their flat with Halliwell's murals decorating every surface) are terribly well done.\n",
            "ChatGPT response: Positive sentiment words in the sentence:\n",
            "\n",
            "- Wonderful\n",
            "- Comforting\n",
            "- Seamless\n",
            "- Terrific\n",
            "- Masterful\n",
            "- Well done\n",
            "\n",
            "Negative sentiment words in the sentence:\n",
            "\n",
            "- Discomforting (although it could be seen as both positive and negative)\n",
            "I thought this was a wonderful way to spend time on a too hot summer weekend sitting in the air conditioned theater and watching a light-hearted comedy. The plot is simplistic, but the dialogue is witty and the characters are likable (even the well bread suspected serial killer). While some may be disappointed when they realize this is not Match Point 2: Risk Addiction, I thought it was proof that Woody Allen is still fully in control of the style many of us have grown to love.This was the most I'd laughed at one of Woody's comedies in years (dare I say a decade?). While I've never been impressed with Scarlet Johanson, in this she managed to tone down her sexy image and jumped right into a average, but spirited young woman.This may not be the crown jewel of his career, but it was wittier than Devil Wears Prada and more interesting than Superman a great comedy to go see with friends.\n",
            "ChatGPT response: Positive sentiment words: wonderful, comedic, light-hearted, witty, likable, fully in control, love, impressed, spirited, interesting, great. \n",
            "Negative sentiment words: disappointed.\n",
            "Petter Matteis Love in the Time of Money is a visually stunning film to watch. Mr. Mattei offers us a vivid portrait about human relations. This is a movie that seems to be telling us what money, power and success do to people in the different situations we encounter. This being a variation on the Arthur Schnitzler's play about the same theme, the director transfers the action to the present time New York where all these different characters meet and connect. Each one is connected in one way, or another to the next person, but no one seems to know the previous point of contact. Stylishly, the film has a sophisticated luxurious look. We are taken to see how these people live and the world they live in their own habitat.The only thing one gets out of all these souls in the picture is the different stages of loneliness each one inhabits. A big city is not exactly the best place in which human relations find sincere fulfillment, as one discerns is the case with most of the people we encounter.The acting is good under Mr. Mattei's direction. Steve Buscemi, Rosario Dawson, Carol Kane, Michael Imperioli, Adrian Grenier, and the rest of the talented cast, make these characters come alive.We wish Mr. Mattei good luck and await anxiously for his next work.\n",
            "ChatGPT response: Some words in the sentence that show a positive sentiment are \"visually stunning film,\" \"vivid portrait,\" \"sophisticated luxurious look,\" and \"talented cast.\" On the other hand, some words that reveal a negative sentiment are \"loneliness,\" \"not exactly the best place,\" and \"most of the people we encounter.\" Overall, the sentiment of the sentence is neutral to slightly positive.\n",
            "This was  a horrible movie. I hated it. It doesn't make sense although I admit the actors were excellent\n",
            "ChatGPT response: The words \"horrible\" and \"hated\" indicate a negative sentiment in the sentence, while the words \"excellent\" may indicate a positive sentiment. However, the overall sentiment of the sentence is negative due to the strong negative language used towards the movie.\n",
            "I really want to go back and see this one again. The plot was cool and well written. They have a fantastic imagination and the actors were terrific\n",
            "ChatGPT response: Positive sentiment words in the sentence:\n",
            "\n",
            "- \"really want\"\n",
            "- \"cool\"\n",
            "- \"well written\"\n",
            "- \"fantastic\"\n",
            "- \"terrific\"\n"
          ]
        }
      ]
    },
    {
      "cell_type": "markdown",
      "source": [
        "Save the outputs for future use "
      ],
      "metadata": {
        "id": "IGqezL_MR7Pe"
      }
    },
    {
      "cell_type": "code",
      "source": [
        "import csv\n",
        "\n",
        "# Save the reviews and their corresponding sentiments to a CSV file\n",
        "with open(\"reviews.csv\", \"w\", newline=\"\") as f:\n",
        "    writer = csv.writer(f)\n",
        "    writer.writerow([\"review\", \"sentiment\"])\n",
        "    for i, review in enumerate(mreviews):\n",
        "        writer.writerow([review, sentiments[i]])\n",
        "\n",
        "# Confirm that the file was saved by reading it and printing its contents\n",
        "with open(\"reviews.csv\", \"r\") as f:\n",
        "    print(f.read())"
      ],
      "metadata": {
        "colab": {
          "base_uri": "https://localhost:8080/"
        },
        "id": "qrsvziXhQZ1M",
        "outputId": "8b059b04-e577-414b-d7ee-ea8b33339fc4"
      },
      "execution_count": 17,
      "outputs": [
        {
          "output_type": "stream",
          "name": "stdout",
          "text": [
            "review,sentiment\n",
            "\"A wonderful little production. The filming technique is very unassuming- very old-time-BBC fashion and gives a comforting, and sometimes discomforting, sense of realism to the entire piece. The actors are extremely well chosen- Michael Sheen not only has got all the polari but he has all the voices down pat too! You can truly see the seamless editing guided by the references to Williams' diary entries, not only is it well worth the watching but it is a terrificly written and performed piece. A masterful production about one of the great master's of comedy and his life. The realism really comes home with the little things: the fantasy of the guard which, rather than use the traditional 'dream' techniques remains solid then disappears. It plays on our knowledge and our senses, particularly with the scenes concerning Orton and Halliwell and the sets (particularly of their flat with Halliwell's murals decorating every surface) are terribly well done.\",\"Positive sentiment words in the sentence:\n",
            "\n",
            "- Wonderful\n",
            "- Comforting\n",
            "- Seamless\n",
            "- Terrific\n",
            "- Masterful\n",
            "- Well done\n",
            "\n",
            "Negative sentiment words in the sentence:\n",
            "\n",
            "- Discomforting (although it could be seen as both positive and negative)\"\n",
            "\"I thought this was a wonderful way to spend time on a too hot summer weekend sitting in the air conditioned theater and watching a light-hearted comedy. The plot is simplistic, but the dialogue is witty and the characters are likable (even the well bread suspected serial killer). While some may be disappointed when they realize this is not Match Point 2: Risk Addiction, I thought it was proof that Woody Allen is still fully in control of the style many of us have grown to love.This was the most I'd laughed at one of Woody's comedies in years (dare I say a decade?). While I've never been impressed with Scarlet Johanson, in this she managed to tone down her sexy image and jumped right into a average, but spirited young woman.This may not be the crown jewel of his career, but it was wittier than Devil Wears Prada and more interesting than Superman a great comedy to go see with friends.\",\"Positive sentiment words: wonderful, comedic, light-hearted, witty, likable, fully in control, love, impressed, spirited, interesting, great. \n",
            "Negative sentiment words: disappointed.\"\n",
            "\"Petter Matteis Love in the Time of Money is a visually stunning film to watch. Mr. Mattei offers us a vivid portrait about human relations. This is a movie that seems to be telling us what money, power and success do to people in the different situations we encounter. This being a variation on the Arthur Schnitzler's play about the same theme, the director transfers the action to the present time New York where all these different characters meet and connect. Each one is connected in one way, or another to the next person, but no one seems to know the previous point of contact. Stylishly, the film has a sophisticated luxurious look. We are taken to see how these people live and the world they live in their own habitat.The only thing one gets out of all these souls in the picture is the different stages of loneliness each one inhabits. A big city is not exactly the best place in which human relations find sincere fulfillment, as one discerns is the case with most of the people we encounter.The acting is good under Mr. Mattei's direction. Steve Buscemi, Rosario Dawson, Carol Kane, Michael Imperioli, Adrian Grenier, and the rest of the talented cast, make these characters come alive.We wish Mr. Mattei good luck and await anxiously for his next work.\",\"Some words in the sentence that show a positive sentiment are \"\"visually stunning film,\"\" \"\"vivid portrait,\"\" \"\"sophisticated luxurious look,\"\" and \"\"talented cast.\"\" On the other hand, some words that reveal a negative sentiment are \"\"loneliness,\"\" \"\"not exactly the best place,\"\" and \"\"most of the people we encounter.\"\" Overall, the sentiment of the sentence is neutral to slightly positive.\"\n",
            "This was  a horrible movie. I hated it. It doesn't make sense although I admit the actors were excellent,\"The words \"\"horrible\"\" and \"\"hated\"\" indicate a negative sentiment in the sentence, while the words \"\"excellent\"\" may indicate a positive sentiment. However, the overall sentiment of the sentence is negative due to the strong negative language used towards the movie.\"\n",
            "I really want to go back and see this one again. The plot was cool and well written. They have a fantastic imagination and the actors were terrific,\"Positive sentiment words in the sentence:\n",
            "\n",
            "- \"\"really want\"\"\n",
            "- \"\"cool\"\"\n",
            "- \"\"well written\"\"\n",
            "- \"\"fantastic\"\"\n",
            "- \"\"terrific\"\"\"\n",
            "\n"
          ]
        }
      ]
    },
    {
      "cell_type": "markdown",
      "source": [
        "Load the outputs and explanations"
      ],
      "metadata": {
        "id": "ZEnde2O3SDi6"
      }
    },
    {
      "cell_type": "code",
      "source": [
        "import pandas as pd\n",
        "df = pd.read_csv('reviews.csv')\n",
        "df"
      ],
      "metadata": {
        "colab": {
          "base_uri": "https://localhost:8080/",
          "height": 206
        },
        "id": "jyOnlv8VRVGY",
        "outputId": "c26fd4d3-911d-4ead-8557-0d80074ddfb9"
      },
      "execution_count": 18,
      "outputs": [
        {
          "output_type": "execute_result",
          "data": {
            "text/plain": [
              "                                              review  \\\n",
              "0  A wonderful little production. The filming tec...   \n",
              "1  I thought this was a wonderful way to spend ti...   \n",
              "2  Petter Matteis Love in the Time of Money is a ...   \n",
              "3  This was  a horrible movie. I hated it. It doe...   \n",
              "4  I really want to go back and see this one agai...   \n",
              "\n",
              "                                           sentiment  \n",
              "0  Positive sentiment words in the sentence:\\n\\n-...  \n",
              "1  Positive sentiment words: wonderful, comedic, ...  \n",
              "2  Some words in the sentence that show a positiv...  \n",
              "3  The words \"horrible\" and \"hated\" indicate a ne...  \n",
              "4  Positive sentiment words in the sentence:\\n\\n-...  "
            ],
            "text/html": [
              "\n",
              "  <div id=\"df-4f93c426-cc84-4c16-bf8a-c497bdd89aee\">\n",
              "    <div class=\"colab-df-container\">\n",
              "      <div>\n",
              "<style scoped>\n",
              "    .dataframe tbody tr th:only-of-type {\n",
              "        vertical-align: middle;\n",
              "    }\n",
              "\n",
              "    .dataframe tbody tr th {\n",
              "        vertical-align: top;\n",
              "    }\n",
              "\n",
              "    .dataframe thead th {\n",
              "        text-align: right;\n",
              "    }\n",
              "</style>\n",
              "<table border=\"1\" class=\"dataframe\">\n",
              "  <thead>\n",
              "    <tr style=\"text-align: right;\">\n",
              "      <th></th>\n",
              "      <th>review</th>\n",
              "      <th>sentiment</th>\n",
              "    </tr>\n",
              "  </thead>\n",
              "  <tbody>\n",
              "    <tr>\n",
              "      <th>0</th>\n",
              "      <td>A wonderful little production. The filming tec...</td>\n",
              "      <td>Positive sentiment words in the sentence:\\n\\n-...</td>\n",
              "    </tr>\n",
              "    <tr>\n",
              "      <th>1</th>\n",
              "      <td>I thought this was a wonderful way to spend ti...</td>\n",
              "      <td>Positive sentiment words: wonderful, comedic, ...</td>\n",
              "    </tr>\n",
              "    <tr>\n",
              "      <th>2</th>\n",
              "      <td>Petter Matteis Love in the Time of Money is a ...</td>\n",
              "      <td>Some words in the sentence that show a positiv...</td>\n",
              "    </tr>\n",
              "    <tr>\n",
              "      <th>3</th>\n",
              "      <td>This was  a horrible movie. I hated it. It doe...</td>\n",
              "      <td>The words \"horrible\" and \"hated\" indicate a ne...</td>\n",
              "    </tr>\n",
              "    <tr>\n",
              "      <th>4</th>\n",
              "      <td>I really want to go back and see this one agai...</td>\n",
              "      <td>Positive sentiment words in the sentence:\\n\\n-...</td>\n",
              "    </tr>\n",
              "  </tbody>\n",
              "</table>\n",
              "</div>\n",
              "      <button class=\"colab-df-convert\" onclick=\"convertToInteractive('df-4f93c426-cc84-4c16-bf8a-c497bdd89aee')\"\n",
              "              title=\"Convert this dataframe to an interactive table.\"\n",
              "              style=\"display:none;\">\n",
              "        \n",
              "  <svg xmlns=\"http://www.w3.org/2000/svg\" height=\"24px\"viewBox=\"0 0 24 24\"\n",
              "       width=\"24px\">\n",
              "    <path d=\"M0 0h24v24H0V0z\" fill=\"none\"/>\n",
              "    <path d=\"M18.56 5.44l.94 2.06.94-2.06 2.06-.94-2.06-.94-.94-2.06-.94 2.06-2.06.94zm-11 1L8.5 8.5l.94-2.06 2.06-.94-2.06-.94L8.5 2.5l-.94 2.06-2.06.94zm10 10l.94 2.06.94-2.06 2.06-.94-2.06-.94-.94-2.06-.94 2.06-2.06.94z\"/><path d=\"M17.41 7.96l-1.37-1.37c-.4-.4-.92-.59-1.43-.59-.52 0-1.04.2-1.43.59L10.3 9.45l-7.72 7.72c-.78.78-.78 2.05 0 2.83L4 21.41c.39.39.9.59 1.41.59.51 0 1.02-.2 1.41-.59l7.78-7.78 2.81-2.81c.8-.78.8-2.07 0-2.86zM5.41 20L4 18.59l7.72-7.72 1.47 1.35L5.41 20z\"/>\n",
              "  </svg>\n",
              "      </button>\n",
              "      \n",
              "  <style>\n",
              "    .colab-df-container {\n",
              "      display:flex;\n",
              "      flex-wrap:wrap;\n",
              "      gap: 12px;\n",
              "    }\n",
              "\n",
              "    .colab-df-convert {\n",
              "      background-color: #E8F0FE;\n",
              "      border: none;\n",
              "      border-radius: 50%;\n",
              "      cursor: pointer;\n",
              "      display: none;\n",
              "      fill: #1967D2;\n",
              "      height: 32px;\n",
              "      padding: 0 0 0 0;\n",
              "      width: 32px;\n",
              "    }\n",
              "\n",
              "    .colab-df-convert:hover {\n",
              "      background-color: #E2EBFA;\n",
              "      box-shadow: 0px 1px 2px rgba(60, 64, 67, 0.3), 0px 1px 3px 1px rgba(60, 64, 67, 0.15);\n",
              "      fill: #174EA6;\n",
              "    }\n",
              "\n",
              "    [theme=dark] .colab-df-convert {\n",
              "      background-color: #3B4455;\n",
              "      fill: #D2E3FC;\n",
              "    }\n",
              "\n",
              "    [theme=dark] .colab-df-convert:hover {\n",
              "      background-color: #434B5C;\n",
              "      box-shadow: 0px 1px 3px 1px rgba(0, 0, 0, 0.15);\n",
              "      filter: drop-shadow(0px 1px 2px rgba(0, 0, 0, 0.3));\n",
              "      fill: #FFFFFF;\n",
              "    }\n",
              "  </style>\n",
              "\n",
              "      <script>\n",
              "        const buttonEl =\n",
              "          document.querySelector('#df-4f93c426-cc84-4c16-bf8a-c497bdd89aee button.colab-df-convert');\n",
              "        buttonEl.style.display =\n",
              "          google.colab.kernel.accessAllowed ? 'block' : 'none';\n",
              "\n",
              "        async function convertToInteractive(key) {\n",
              "          const element = document.querySelector('#df-4f93c426-cc84-4c16-bf8a-c497bdd89aee');\n",
              "          const dataTable =\n",
              "            await google.colab.kernel.invokeFunction('convertToInteractive',\n",
              "                                                     [key], {});\n",
              "          if (!dataTable) return;\n",
              "\n",
              "          const docLinkHtml = 'Like what you see? Visit the ' +\n",
              "            '<a target=\"_blank\" href=https://colab.research.google.com/notebooks/data_table.ipynb>data table notebook</a>'\n",
              "            + ' to learn more about interactive tables.';\n",
              "          element.innerHTML = '';\n",
              "          dataTable['output_type'] = 'display_data';\n",
              "          await google.colab.output.renderOutput(dataTable, element);\n",
              "          const docLink = document.createElement('div');\n",
              "          docLink.innerHTML = docLinkHtml;\n",
              "          element.appendChild(docLink);\n",
              "        }\n",
              "      </script>\n",
              "    </div>\n",
              "  </div>\n",
              "  "
            ]
          },
          "metadata": {},
          "execution_count": 18
        }
      ]
    },
    {
      "cell_type": "markdown",
      "source": [
        "## ChatGPT XAI with SHAP\n",
        "\n",
        "This example illustrates how ChatGPT can explain SHAP and create an example in Python to apply SHAP to a request provided through a prompt. \n",
        "\n",
        "The example runs with:\n",
        "\n",
        "- davinci, written by ChatGPT\n",
        "- GPT-3.5-turbo, written by Denis Rothman\n",
        "- GPT-4, written by Denis Rothman\n",
        "\n",
        "**Note**: GPT models are probabilistic algorithms. The response was acceptable once but can varry from one request to another."
      ],
      "metadata": {
        "id": "0WSP5NjaLAkE"
      }
    },
    {
      "cell_type": "markdown",
      "source": [
        "**Introduction by ChatGPT:**\n",
        "\n",
        "*ChatGPT wrote this entire paragraph and the code that follows.*\n",
        "\n",
        "**Definition**\n",
        "\n",
        "SHAP (SHapley Additive exPlanations) is a type of Explainable Artificial Intelligence (XAI) that helps to explain the output of machine learning models. It is a model-agnostic technique that assigns an importance score to each feature or input variable in the model. The importance score represents the contribution of that feature towards the final output of the model.\n",
        "\n",
        "The SHAP method is based on the concept of Shapley values from cooperative game theory. Shapley values are a way to fairly distribute the value of a group's output among its members based on their individual contributions. In the context of machine learning, SHAP assigns an importance score to each feature based on its contribution to the prediction compared to all possible combinations of features.\n",
        "\n",
        "SHAP provides a way to visualize and interpret the behavior of complex machine learning models, making it easier for users to understand how the model arrived at a particular prediction or decision. It can be particularly useful in high-stakes applications, such as healthcare or finance, where the decisions made by machine learning models can have a significant impact on people's lives.\n",
        "\n",
        "**The equation**\n",
        "\n",
        "The SHAP method is based on the Shapley values concept from cooperative game theory. The equation for computing Shapley values for a feature or input variable i is:\n",
        "\n",
        "φ_i = 1/N * Σ_{S⊆C{i}} (N-|S|-1)!|S|! * [Φ(S U {i}) − Φ(S)]\n",
        "\n",
        "where:\n",
        "\n",
        "φ_i is the Shapley value for feature i\n",
        "N is the total number of input features in the model\n",
        "C is the set of all input features\n",
        "S is a subset of C not including feature i\n",
        "Φ(S) is the predicted output of the model when input features in S are used\n",
        "Φ(S U {i}) is the predicted output of the model when input features in S plus feature i are used\n",
        "The equation calculates the contribution of feature i to the predicted output of the model by averaging its marginal contribution over all possible feature combinations. The computation involves evaluating the model's output with and without the feature i, and comparing the difference in prediction to the other input features.\n",
        "\n",
        "**An example**\n",
        "\n",
        "Let's consider a simple example of a machine learning model that predicts the price of a house based on its features such as size, number of bedrooms, and location. We want to use the SHAP method to understand how the model arrived at a particular prediction.\n",
        "\n",
        "Suppose the model predicts the price of a house to be $500,000, and we want to know the contribution of the feature \"number of bedrooms\" to this prediction. The equation for calculating the Shapley value of this feature is:\n",
        "\n",
        "φ_i = 1/N * Σ_{S⊆C{i}} (N-|S|-1)!|S|! * [Φ(S U {i}) − Φ(S)]\n",
        "\n",
        "where:\n",
        "\n",
        "i = \"number of bedrooms\"\n",
        "\n",
        "N = 3 (total number of features in the model)\n",
        "\n",
        "C = {size, number of bedrooms, location}\n",
        "\n",
        "Φ(S) is the predicted price of a house with features in S\n",
        "Suppose we evaluate the model's output for the following feature combinations:\n",
        "\n",
        "Φ({size}) = $400,000\n",
        "\n",
        "Φ({location}) = $550,000\n",
        "\n",
        "Φ({size, location}) = $600,000\n",
        "\n",
        "Using the equation, we can compute the Shapley value for the \"number of bedrooms\" feature as:\n",
        "\n",
        "φ_i = 1/3 * [ (2!0! * ($600,000 - $550,000)) + (2!1! * ($550,000 - $500,000)) + (2!0! * ($500,000 - $400,000)) ]\n",
        "= 1/3 * [ (2 * $50,000) + (2 * $50,000) + (2 * $100,000) ]\n",
        "= $66,667\n",
        "\n",
        "This means that the \"number of bedrooms\" feature contributed about $66,667 to the predicted price of the house. By computing the Shapley values for all features in the model, we can gain a better understanding of how the model arrived at its prediction and which features were most important.\n",
        "\n",
        "** Code **\n",
        "\n",
        "This code will generate a text output explaining how to compute the Shapley value for the \"number of bedrooms\" feature in the house price prediction model based on the given feature combinations. The output will be generated using the GPT-3.5-turbo language model.\n",
        "\n",
        "Example Python code snippet that uses the GPT-3.5-turbo model to generate a text output explaining the SHAP values for the house price prediction model:\n",
        "\n",
        "\n"
      ],
      "metadata": {
        "id": "wjWIT5KWLMCI"
      }
    },
    {
      "cell_type": "markdown",
      "source": [
        "## ChatGPT XAI for `text-davinci-002`"
      ],
      "metadata": {
        "id": "aqkduk-tmUXS"
      }
    },
    {
      "cell_type": "code",
      "source": [
        "import openai\n",
        "import json\n",
        "\n",
        "# Define the prompt\n",
        "prompt = (f\"Consider a machine learning model that predicts the price of a house based on its features such as size, number of bedrooms, and location. \"\n",
        "          f\"The model predicts the price of a house to be $500,000, and we want to know the contribution of the feature 'number of bedrooms' to this prediction. \"\n",
        "          f\"Compute the Shapley value for this feature using the following feature combinations:\\n\\n\"\n",
        "          f\"Φ({{size}}) = $400,000\\n\"\n",
        "          f\"Φ({{location}}) = $550,000\\n\"\n",
        "          f\"Φ({{size, location}}) = $600,000\\n\\n\"\n",
        "          f\"What is the contribution of the 'number of bedrooms' feature to the predicted price of the house?\\n\\n\"\n",
        "          f\"Shapley value for 'number of bedrooms' feature = \"\n",
        "         )\n",
        "\n",
        "# Set up davinci parameters\n",
        "model_engine = \"text-davinci-002\"\n",
        "prompt_length = len(prompt)\n",
        "max_tokens = 1024\n",
        "\n",
        "# Generate text output with GPT-3.5-turbo\n",
        "response = openai.Completion.create(\n",
        "    engine=model_engine,\n",
        "    prompt=prompt,\n",
        "    #prompt_length=prompt_length,\n",
        "    max_tokens=max_tokens,\n",
        "    n=1,\n",
        "    stop=None,\n",
        "    temperature=0.5,\n",
        ")\n",
        "\n",
        "# Parse the output\n",
        "output = response.choices[0].text.strip()\n",
        "\n",
        "# Print the output\n",
        "print(output)\n"
      ],
      "metadata": {
        "colab": {
          "base_uri": "https://localhost:8080/"
        },
        "id": "SS76Kw2oLHHd",
        "outputId": "6f15f78b-1168-42c9-f9ec-5f275e1bde38"
      },
      "execution_count": 19,
      "outputs": [
        {
          "output_type": "stream",
          "name": "stdout",
          "text": [
            "$50,000\n"
          ]
        }
      ]
    },
    {
      "cell_type": "markdown",
      "source": [
        "text-davinci-002 response: $50,000\n",
        "\n",
        "**Note**: GPT models are probabilistic algorithms. The response was acceptable once but can varry from one request to another."
      ],
      "metadata": {
        "id": "2FgpYlJpsd_d"
      }
    },
    {
      "cell_type": "markdown",
      "source": [
        "## SHAP ChatGPT XAI for `gpt-3.5-turbo` and `gpt-4`"
      ],
      "metadata": {
        "id": "8B8cw8hxmHVh"
      }
    },
    {
      "cell_type": "markdown",
      "source": [
        "### Preparing the prompt"
      ],
      "metadata": {
        "id": "cwRn58q0ovT7"
      }
    },
    {
      "cell_type": "code",
      "source": [
        "def prepare_message():\n",
        "  # Define the prompt\n",
        "  prompt = (f\"Consider a machine learning model that predicts the price of a house based on its features such as size, number of bedrooms, and location. \"\n",
        "            f\"The model predicts the price of a house to be $500,000, and we want to know the contribution of the feature 'number of bedrooms' to this prediction. \"\n",
        "            f\"Compute the Shapley value for this feature using the following feature combinations:\\n\\n\"\n",
        "            f\"Φ({{size}}) = $400,000\\n\"\n",
        "            f\"Φ({{location}}) = $550,000\\n\"\n",
        "            f\"Φ({{size, location}}) = $600,000\\n\\n\"\n",
        "            f\"What is the contribution of the 'number of bedrooms' feature to the predicted price of the house?\\n\\n\"\n",
        "            f\"Shapley value for 'number of bedrooms' feature = \"\n",
        "           )\n",
        "  #preparing the prompt for OpenAI \n",
        "  role=\"user\"\n",
        "\n",
        "  line = {\"role\": role, \"content\": prompt}\n",
        " \n",
        "  #creating the mesage\n",
        "  assert1={\"role\": \"system\", \"content\": \"You are a helpful XAI system.\"}\n",
        "  assert2={\"role\": \"assistant\", \"content\": \"Provide Shapley values.\"}\n",
        "  assert3=line\n",
        "  iprompt = []\n",
        "  iprompt.append(assert1)\n",
        "  iprompt.append(assert2)\n",
        "  iprompt.append(assert3)\n",
        "\n",
        "  return iprompt"
      ],
      "metadata": {
        "id": "UTqwJfZomHyK"
      },
      "execution_count": 20,
      "outputs": []
    },
    {
      "cell_type": "markdown",
      "source": [
        "### SHAP ChatGPT XAI for `gpt-3.5-turbo`"
      ],
      "metadata": {
        "id": "rDBNBDoAnwz-"
      }
    },
    {
      "cell_type": "code",
      "source": [
        "iprompt=prepare_message() #preparing the messages for ChatGPT\n",
        "response=openai.ChatCompletion.create(model=\"gpt-3.5-turbo\",messages=iprompt) #ChatGPT request\n",
        "text=response[\"choices\"][0][\"message\"][\"content\"] #response in JSON\n",
        "print(\"ChatGPT response:\",text)"
      ],
      "metadata": {
        "colab": {
          "base_uri": "https://localhost:8080/"
        },
        "id": "ReXrdikBnCa8",
        "outputId": "6ada85cc-fd13-48d1-b8e0-5ddc2e7aee9b"
      },
      "execution_count": 21,
      "outputs": [
        {
          "output_type": "stream",
          "name": "stdout",
          "text": [
            "ChatGPT response: To compute the Shapley value for the 'number of bedrooms' feature, we need to consider all possible combinations of features and compute the difference between the predicted value of the full combination and the predicted value of the combination without the 'number of bedrooms' feature. \n",
            "\n",
            "There are four possible combinations of features including 'number of bedrooms':\n",
            "- {size, bedrooms}\n",
            "- {location, bedrooms}\n",
            "- {size, location, bedrooms}\n",
            "- {bedrooms}\n",
            "\n",
            "Φ({size, bedrooms}) = $450,000\n",
            "Φ({location, bedrooms}) = $550,000\n",
            "Φ({size, location, bedrooms}) = $600,000\n",
            "Φ({bedrooms}) = $400,000\n",
            "\n",
            "We can now calculate the contribution of the 'number of bedrooms' feature as follows:\n",
            "\n",
            "Shapley value of 'number of bedrooms' feature = \n",
            "[Φ({size, location, bedrooms}) - Φ({size, location})] + \n",
            "[Φ({size, location}) - Φ({location, bedrooms}) - Φ({size, bedrooms})] + \n",
            "[Φ({location, bedrooms}) - Φ({bedrooms})] + \n",
            "[Φ({size, bedrooms}) - Φ({})]\n",
            "= [$600,000 - $600,000] + [$600,000 - $450,000 - $550,000] + [$550,000 - $400,000] + [$450,000 - $500,000]\n",
            "= -$20,000\n",
            "\n",
            "Therefore, the contribution of the 'number of bedrooms' feature to the predicted price of the house is -$20,000. This suggests that having more bedrooms actually decreases the predicted price of the house.\n"
          ]
        }
      ]
    },
    {
      "cell_type": "markdown",
      "source": [
        "**Note**: GPT models are probabilistic algorithms. The response was acceptable once but can varry from one request to another.\n",
        "\n",
        "**ChatGPT response:** To compute the Shapley value for the 'number of bedrooms' feature, we consider all possible permutations of feature contributions, as follows:\n",
        "\n",
        "- {size, location, number of bedrooms}: Φ({size, location, number of bedrooms}) - Φ({size, location})\n",
        "- {size, number of bedrooms, location}: Φ({size, number of bedrooms, location}) - Φ({size, number of bedrooms})\n",
        "- {location, size, number of bedrooms}: Φ({location, size, number of bedrooms}) - Φ({location, size})\n",
        "- {location, number of bedrooms, size}: Φ({location, number of bedrooms, size}) - Φ({location, number of bedrooms})\n",
        "- {number of bedrooms, size, location}: Φ({number of bedrooms, size, location}) - Φ({number of bedrooms, size})\n",
        "- {number of bedrooms, location, size}: Φ({number of bedrooms, location, size}) - Φ({number of bedrooms, location})\n",
        "\n",
        "We can compute these values as follows:\n",
        "\n",
        "- Φ({size, location, number of bedrooms}) - Φ({size, location}) = $600,000 - $600,000 = $0\n",
        "- Φ({size, number of bedrooms, location}) - Φ({size, number of bedrooms}) = $500,000 - $450,000 = $50,000\n",
        "- Φ({location, size, number of bedrooms}) - Φ({location, size}) = $600,000 - $550,000 = $50,000\n",
        "- Φ({location, number of bedrooms, size}) - Φ({location, number of bedrooms}) = $550,000 - $500,000 = $50,000\n",
        "- Φ({number of bedrooms, size, location}) - Φ({number of bedrooms, size}) = $500,000 - $400,000 = $100,000\n",
        "- Φ({number of bedrooms, location, size}) - Φ({number of bedrooms, location}) = $550,000 - $500,000 = $50,000\n",
        "\n",
        "The total contribution of the 'number of bedrooms' feature is the average of these values, which is:\n",
        "\n",
        "Shapley value for 'number of bedrooms' feature = ($0 + $50,000 + $50,000 + $50,000 + $100,000 + $50,000) / 6 = $50,000/6 ≈ $8,333\n",
        "\n",
        "Therefore, we can say that the contribution of the 'number of bedrooms' feature to the predicted price of the house is approximately $8,333."
      ],
      "metadata": {
        "id": "HK-DazZXpaFQ"
      }
    },
    {
      "cell_type": "markdown",
      "source": [
        "### SHAP ChatGPT XAI for `gpt-4`"
      ],
      "metadata": {
        "id": "8mGGFAITnxY7"
      }
    },
    {
      "cell_type": "code",
      "source": [
        "iprompt=prepare_message() #preparing the messages for GPT-4\n",
        "response=openai.ChatCompletion.create(model=\"gpt-3.5-turbo\",messages=iprompt) #GPT-4 request\n",
        "text=response[\"choices\"][0][\"message\"][\"content\"] #response in JSON\n",
        "print(\"GPT-4 response:\",text)"
      ],
      "metadata": {
        "colab": {
          "base_uri": "https://localhost:8080/"
        },
        "id": "TR6DiQxenx0v",
        "outputId": "30ee6aaa-70da-4cb5-b29b-9847ac472f29"
      },
      "execution_count": 22,
      "outputs": [
        {
          "output_type": "stream",
          "name": "stdout",
          "text": [
            "GPT-4 response: To compute the Shapley value for the 'number of bedrooms' feature, we need to evaluate the model prediction for all possible feature combinations and compute the marginal contribution of 'number of bedrooms' in each combination.\n",
            "\n",
            "There are four feature combinations in total:\n",
            "\n",
            "Φ({}) = $0 (baseline)\n",
            "Φ({size}) = $400,000\n",
            "Φ({location}) = $550,000\n",
            "Φ({size, location}) = $600,000\n",
            "\n",
            "To compute the marginal contribution of 'number of bedrooms' in each combination, we can use the following formula:\n",
            "\n",
            "Φ({i}) - Φ({i-1}) - Φ({S-i})\n",
            "\n",
            "where i is the index of the 'number of bedrooms' feature (in our case, 2), S is the total number of features (in our case, 3), and {S-i} is the set of all features except 'number of bedrooms'.\n",
            "\n",
            "Using this formula, we can compute the marginal contribution for each feature combination:\n",
            "\n",
            "Φ({}) - Φ({}) - Φ({size}, {location}) = $0 - $0 - $600,000 = -$600,000\n",
            "Φ({size}) - Φ({}) - Φ({size, location}) = $400,000 - $0 - $600,000 = -$200,000\n",
            "Φ({location}) - Φ({}) - Φ({size, location}) = $550,000 - $0 - $600,000 = -$50,000\n",
            "Φ({size, location}) - Φ({size}) - Φ({location}) = $600,000 - $400,000 - $550,000 = $50,000\n",
            "\n",
            "The Shapley value for the 'number of bedrooms' feature is the average of these marginal contributions, weighted by the number of feature combinations where the feature appears:\n",
            "\n",
            "Shapley value = (-$600,000 * 2 + -$200,000 * 1 + -$50,000 * 1 + $50,000 * 0) / 4 = -$337,500\n",
            "\n",
            "This means that the 'number of bedrooms' feature has a negative contribution of $337,500 to the predicted price of the house. In other words, if we remove this feature from the model, the predicted price would increase by $337,500 on average. Conversely, if we add more bedrooms to the house, the predicted price would decrease by $337,500 on average, assuming that all other features remain constant.\n"
          ]
        }
      ]
    },
    {
      "cell_type": "markdown",
      "source": [
        "**Note**: GPT models are probabilistic algorithms. The response was acceptable once but can varry from one request to another.\n",
        "\n",
        "**GPT-4 response:** To compute the Shapley value for the 'number of bedrooms' feature, we need to calculate the contribution of this feature for each combination of features, where the feature 'number of bedrooms' is included. \n",
        "\n",
        "We have three feature combinations: {size, number of bedrooms}, {location, number of bedrooms}, and {size, location, number of bedrooms}. \n",
        "\n",
        "For the feature combination {size, number of bedrooms}, we have:\n",
        "\n",
        "Φ({size, number of bedrooms}) = $450,000\n",
        "\n",
        "For the feature combination {location, number of bedrooms}, we have:\n",
        "\n",
        "Φ({location, number of bedrooms}) = $600,000\n",
        "\n",
        "For the feature combination {size, location, number of bedrooms}, we have:\n",
        "\n",
        "Φ({size, location, number of bedrooms}) = $650,000\n",
        "\n",
        "To calculate the contribution of the 'number of bedrooms' feature to the predicted price of the house, we need to compute the average marginal contributions of this feature across all possible orders that include it. \n",
        "\n",
        "The possible orders that include the 'number of bedrooms' feature are: \n",
        "\n",
        "- {size, number of bedrooms}\n",
        "- {location, number of bedrooms}\n",
        "- {size, location, number of bedrooms}\n",
        "\n",
        "The marginal contribution of the 'number of bedrooms' feature for each order is:\n",
        "\n",
        "- {size, number of bedrooms}: $450,000 - $400,000 = $50,000\n",
        "- {location, number of bedrooms}: $600,000 - $550,000 = $50,000\n",
        "- {size, location, number of bedrooms}: $650,000 - $600,000 = $50,000\n",
        "\n",
        "The average marginal contribution of the 'number of bedrooms' feature is:\n",
        "\n",
        "($50,000 + $50,000 + $50,000) / 3 = $50,000\n",
        "\n",
        "Therefore, the Shapley value for the 'number of bedrooms' feature is $50,000. \n",
        "\n",
        "This means that the contribution of the 'number of bedrooms' feature to the predicted price of the house is $50,000.\n"
      ],
      "metadata": {
        "id": "yqFrE6MoppSx"
      }
    },
    {
      "cell_type": "markdown",
      "source": [
        "## GPT-4 writes a program for the SHAP library."
      ],
      "metadata": {
        "id": "U4IsTA_MSotw"
      }
    },
    {
      "cell_type": "code",
      "source": [
        "pip install shap"
      ],
      "metadata": {
        "colab": {
          "base_uri": "https://localhost:8080/"
        },
        "id": "XqvrrxRNSo6v",
        "outputId": "0696c0e6-bd02-40b8-d9ad-b072e883e163"
      },
      "execution_count": 23,
      "outputs": [
        {
          "output_type": "stream",
          "name": "stdout",
          "text": [
            "Looking in indexes: https://pypi.org/simple, https://us-python.pkg.dev/colab-wheels/public/simple/\n",
            "Requirement already satisfied: shap in /usr/local/lib/python3.9/dist-packages (0.41.0)\n",
            "Requirement already satisfied: scikit-learn in /usr/local/lib/python3.9/dist-packages (from shap) (1.2.2)\n",
            "Requirement already satisfied: tqdm>4.25.0 in /usr/local/lib/python3.9/dist-packages (from shap) (4.65.0)\n",
            "Requirement already satisfied: pandas in /usr/local/lib/python3.9/dist-packages (from shap) (1.4.4)\n",
            "Requirement already satisfied: numba in /usr/local/lib/python3.9/dist-packages (from shap) (0.56.4)\n",
            "Requirement already satisfied: packaging>20.9 in /usr/local/lib/python3.9/dist-packages (from shap) (23.0)\n",
            "Requirement already satisfied: scipy in /usr/local/lib/python3.9/dist-packages (from shap) (1.10.1)\n",
            "Requirement already satisfied: cloudpickle in /usr/local/lib/python3.9/dist-packages (from shap) (2.2.1)\n",
            "Requirement already satisfied: numpy in /usr/local/lib/python3.9/dist-packages (from shap) (1.22.4)\n",
            "Requirement already satisfied: slicer==0.0.7 in /usr/local/lib/python3.9/dist-packages (from shap) (0.0.7)\n",
            "Requirement already satisfied: llvmlite<0.40,>=0.39.0dev0 in /usr/local/lib/python3.9/dist-packages (from numba->shap) (0.39.1)\n",
            "Requirement already satisfied: setuptools in /usr/local/lib/python3.9/dist-packages (from numba->shap) (67.6.0)\n",
            "Requirement already satisfied: pytz>=2020.1 in /usr/local/lib/python3.9/dist-packages (from pandas->shap) (2022.7.1)\n",
            "Requirement already satisfied: python-dateutil>=2.8.1 in /usr/local/lib/python3.9/dist-packages (from pandas->shap) (2.8.2)\n",
            "Requirement already satisfied: threadpoolctl>=2.0.0 in /usr/local/lib/python3.9/dist-packages (from scikit-learn->shap) (3.1.0)\n",
            "Requirement already satisfied: joblib>=1.1.1 in /usr/local/lib/python3.9/dist-packages (from scikit-learn->shap) (1.1.1)\n",
            "Requirement already satisfied: six>=1.5 in /usr/local/lib/python3.9/dist-packages (from python-dateutil>=2.8.1->pandas->shap) (1.16.0)\n",
            "\u001b[33mWARNING: Running pip as the 'root' user can result in broken permissions and conflicting behaviour with the system package manager. It is recommended to use a virtual environment instead: https://pip.pypa.io/warnings/venv\u001b[0m\u001b[33m\n",
            "\u001b[0m"
          ]
        }
      ]
    },
    {
      "cell_type": "markdown",
      "source": [
        "\n",
        "\n",
        "**Denis Rothman instructions**: \n",
        "\n",
        "- run the same example as above for GPT-4 with the native SHAP library\n",
        "- plot the SHAP summary bar\n",
        "- provide the contribution feature in dollars\n",
        " "
      ],
      "metadata": {
        "id": "lBVNdodeSr-n"
      }
    },
    {
      "cell_type": "markdown",
      "source": [
        "## **GPT-4 wrote 100% the following explanation and the code in Python:***\n",
        "\n"
      ],
      "metadata": {
        "id": "LMJrnCMtTNmT"
      }
    },
    {
      "cell_type": "markdown",
      "source": [
        "**GPT-4:**\n",
        "\n",
        "This code computes the SHAP values for a house price prediction model with three features (size, number of bedrooms, and location) using the SHAP library. It then converts the SHAP values to dollar values and generates a summary plot showing the impact of each feature on the predicted house prices. Finally, it prints a sentence explaining the contribution of the \"number of bedrooms\" feature to the predicted house price in dollar value."
      ],
      "metadata": {
        "id": "JZ4L4JFuVmat"
      }
    },
    {
      "cell_type": "code",
      "source": [
        "import shap\n",
        "import numpy as np\n",
        "import matplotlib.pyplot as plt\n",
        "\n",
        "# Define the feature combinations\n",
        "X = np.array([[400000, 1, 0], [550000, 0, 1], [600000, 1, 1]])\n",
        "\n",
        "# Define the model\n",
        "def house_price_model(X):\n",
        "    # Extract the \"number of bedrooms\" feature\n",
        "    num_bedrooms = X[:, 1]\n",
        "    # Compute the predicted house prices\n",
        "    y = 200 * X[:, 0] + 50 * num_bedrooms + 100 * X[:, 2]\n",
        "    return y\n",
        "\n",
        "# Compute the SHAP values for all features\n",
        "explainer = shap.Explainer(house_price_model, X)\n",
        "shap_values = explainer(X)\n",
        "\n",
        "# Convert the SHAP values to dollar values\n",
        "shap_values_dollar = shap_values.values * (50000 - 20000) + 20000\n",
        "\n",
        "# Compute the summary plot\n",
        "shap.summary_plot(shap_values_dollar, X, feature_names=[\"Size\", \"Number of Bedrooms\", \"Location\"], show=False)\n",
        "\n",
        "# Show the summary plot\n",
        "plt.show()\n",
        "\n",
        "# Print the Shapley value in dollar value for the \"number of bedrooms\" feature\n",
        "shap_value_dollar = shap_values[:, 1].values * (50000 - 20000) + 20000\n",
        "print(f\"The 'number of bedrooms' feature contributed ${shap_value_dollar[0]:.2f} to the predicted house price.\")"
      ],
      "metadata": {
        "colab": {
          "base_uri": "https://localhost:8080/",
          "height": 239
        },
        "id": "IhF_rpsjVd1q",
        "outputId": "cff98e65-dd93-41dd-f723-9acee93341c1"
      },
      "execution_count": 24,
      "outputs": [
        {
          "output_type": "stream",
          "name": "stderr",
          "text": [
            "No data for colormapping provided via 'c'. Parameters 'vmin', 'vmax' will be ignored\n"
          ]
        },
        {
          "output_type": "display_data",
          "data": {
            "text/plain": [
              "<Figure size 576x194.4 with 2 Axes>"
            ],
            "image/png": "[encoded data removed]"
          },
          "metadata": {
            "needs_background": "light"
          }
        },
        {
          "output_type": "stream",
          "name": "stdout",
          "text": [
            "The 'number of bedrooms' feature contributed $520000.00 to the predicted house price.\n"
          ]
        }
      ]
    },
    {
      "cell_type": "markdown",
      "source": [
        "### **GPT-4's ethical conclusion:**\n",
        "\n",
        "The dollar value for the contribution of the \"number of bedrooms\" feature looks high.\n",
        "\n",
        "In the example code, we assumed that the range of the \"number of bedrooms\" feature in dollars is between $20,000 and $50,000. However, this assumption may not be appropriate for all scenarios. In addition, the coefficients in the house_price_model function could also affect the magnitude of the Shapley value for the \"number of bedrooms\" feature.\n",
        "\n",
        "To obtain more realistic results, you may need to use real data and a machine learning model trained on that data. The coefficients of the model will be learned from the data and will reflect the actual impact of each feature on the predicted house prices.\n"
      ],
      "metadata": {
        "id": "z6DlB_pWWvsP"
      }
    },
    {
      "cell_type": "markdown",
      "source": [
        "# Next steps\n",
        "Written by Denis Rothman\n",
        "\n",
        "Explore the notebook with your data, modify the prompts, decide which OpenAI model or other models can do for your project.\n",
        "\n",
        "Be patient because learning how to pilot transformer models is like training to be an airplane pilot. It takes hours of work. Howevever, once you are trained, you will cover distances faster than many other means of project implementation.\n",
        "\n"
      ],
      "metadata": {
        "id": "5LH8bvB6awze"
      }
    }
  ]
}