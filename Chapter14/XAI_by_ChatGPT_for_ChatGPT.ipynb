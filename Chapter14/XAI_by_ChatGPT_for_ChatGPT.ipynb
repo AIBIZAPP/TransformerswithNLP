{
  "nbformat": 4,
  "nbformat_minor": 0,
  "metadata": {
    "colab": {
      "provenance": [],
      "toc_visible": true
    },
    "kernelspec": {
      "name": "python3",
      "display_name": "Python 3"
    },
    "language_info": {
      "name": "python"
    }
  },
  "cells": [
    {
      "cell_type": "markdown",
      "source": [
        "#Explainable AI by ChatGPT for ChatGPT\n",
        "Copyright 2023 Denis Rothman, MIT License\n",
        "\n",
        "**First level Explainable AI(XAI)**\n",
        "\n",
        "This notebook introduces first level explainable AI by GPT-4 for GPT-4. It shows how you can invent tasks through prompt engineering. Your imagination is the limit.\n",
        "\n",
        "The notebook will take you from an introduction with ChatGPT to explainable AI with ChatGPT:\n",
        "\n",
        "- Introduction Dialog with ChatGPT\n",
        "- First level XAI\n",
        "- Sentiment Analyis and XAI\n",
        "- SHAP for XAI\n",
        "- Next Steps\n",
        "\n",
        "**NOTE**: This notebook is a general purpose notebook to show the potential of ChatGPT for first level XAI. The results may or may not be perfect and may require more prompt engineering."
      ],
      "metadata": {
        "id": "b_QjF04i9neT"
      }
    },
    {
      "cell_type": "markdown",
      "source": [
        "Denis Rothman: What is Explainable AI?"
      ],
      "metadata": {
        "id": "2chPJJqaZ-1O"
      }
    },
    {
      "cell_type": "markdown",
      "source": [
        "#Introduction Dialog with ChatGPT\n",
        "\n",
        "**Denis Rothman: What is Explainable AI?**\n",
        "\n",
        "**ChatGPT:** \n",
        "\n",
        "Explainable AI (XAI) refers to a subfield of artificial intelligence focused on developing techniques and methods that make the decision-making process of AI systems more transparent, interpretable, and understandable by humans. Traditional AI systems, particularly deep learning models like neural networks, are often considered \"black boxes\" because it is difficult to comprehend how they arrive at specific outcomes or predictions.\n",
        "\n",
        "The primary goal of Explainable AI is to bridge this gap, enabling human users to trust and engage with AI systems more effectively. This is particularly important in critical domains, such as healthcare, finance, and law enforcement, where understanding the rationale behind AI-generated decisions is crucial for ethical and legal reasons.\n",
        "\n",
        "Some key components and approaches in Explainable AI include:\n",
        "\n",
        "Interpretable models: Designing AI systems that are inherently more interpretable and less complex, such as decision trees or linear models, while still maintaining performance.\n",
        "Post-hoc explanations: Generating explanations after a model has made a prediction. Techniques like LIME (Local Interpretable Model-agnostic Explanations) and SHAP (SHapley Additive exPlanations) are examples of post-hoc explanation methods.\n",
        "Visualizations: Creating visual representations of the inner workings of an AI model, which can help users understand the relationships between input features and the model's predictions.\n",
        "Rule extraction: Converting the knowledge embedded in a complex AI model into human-understandable rules or decision-making processes.\n",
        "By enhancing the transparency and interpretability of AI systems, Explainable AI aims to increase trust in AI, facilitate more effective collaboration between humans and machines, and ensure that AI-driven decisions are ethical, fair, and accountable."
      ],
      "metadata": {
        "id": "Y_6nEHD-aEkU"
      }
    },
    {
      "cell_type": "markdown",
      "source": [
        "GPT-3.5-turbo provides explanations in sentiment analysis such as the reasons for a sentiment analysis such as \"ChatGPT response: Positive sentiment words: wonderful, light-hearted, witty, likable, fully in control, grown to love, wittier, interesting, great. \" Can we consider this as explainable AI?"
      ],
      "metadata": {
        "id": "5p9NudM0aKsV"
      }
    },
    {
      "cell_type": "markdown",
      "source": [
        "ChatGPT:Yes, the example you provided can be considered a form of Explainable AI, albeit a relatively simple one. When GPT-3.5-turbo generates explanations for sentiment analysis by highlighting the positive and negative words contributing to the overall sentiment, it is effectively offering a level of transparency and interpretability into the reasoning behind its predictions.\n",
        "\n",
        "However, it's important to note that the explanations provided by GPT-3.5-turbo may not be as comprehensive or rigorous as those produced by specialized Explainable AI techniques like LIME or SHAP. In this case, the explanations are primarily based on the presence of specific words or phrases in the input text, which may not always capture the full complexity of the model's decision-making process.\n",
        "\n",
        "Nonetheless, these simplified explanations can still be helpful in many situations where users need a quick and intuitive understanding of the model's output, and they contribute to increasing trust and interpretability in AI systems."
      ],
      "metadata": {
        "id": "21GvkgmJaOak"
      }
    },
    {
      "cell_type": "markdown",
      "source": [
        "#First level XAI"
      ],
      "metadata": {
        "id": "xKrHp-g8anhj"
      }
    },
    {
      "cell_type": "markdown",
      "source": [
        "## Installing openai and API key"
      ],
      "metadata": {
        "id": "ygFUriSCvTNb"
      }
    },
    {
      "cell_type": "code",
      "source": [
        "!pip install --upgrade pip"
      ],
      "metadata": {
        "id": "lUn5YJeQvy-F",
        "colab": {
          "base_uri": "https://localhost:8080/"
        },
        "outputId": "89c850a0-3f11-434a-f919-03a32aad3f17"
      },
      "execution_count": 13,
      "outputs": [
        {
          "output_type": "stream",
          "name": "stdout",
          "text": [
            "Looking in indexes: https://pypi.org/simple, https://us-python.pkg.dev/colab-wheels/public/simple/\n",
            "Requirement already satisfied: pip in /usr/local/lib/python3.9/dist-packages (23.0.1)\n",
            "\u001b[33mWARNING: Running pip as the 'root' user can result in broken permissions and conflicting behaviour with the system package manager. It is recommended to use a virtual environment instead: https://pip.pypa.io/warnings/venv\u001b[0m\u001b[33m\n",
            "\u001b[0m"
          ]
        }
      ]
    },
    {
      "cell_type": "code",
      "execution_count": 14,
      "metadata": {
        "id": "9G79pIy_Mg5Y"
      },
      "outputs": [],
      "source": [
        "#Importing openai\n",
        "try:\n",
        "  import openai\n",
        "except:\n",
        "  !pip install openai\n",
        "  import openai"
      ]
    },
    {
      "cell_type": "markdown",
      "source": [
        "API Key"
      ],
      "metadata": {
        "id": "R7YHxHaLmAEi"
      }
    },
    {
      "cell_type": "code",
      "source": [
        "#2.API Key\n",
        "#Store you key in a file and read it(you can type it directly in the notebook but it will be visible for somebody next to you)\n",
        "from google.colab import drive\n",
        "drive.mount('/content/drive')\n",
        "f = open(\"drive/MyDrive/files/api_key.txt\", \"r\")\n",
        "API_KEY=f.readline()\n",
        "f.close()\n",
        "\n",
        "#The OpenAI Key\n",
        "import os\n",
        "os.environ['OPENAI_API_KEY'] =API_KEY\n",
        "openai.api_key = os.getenv(\"OPENAI_API_KEY\")"
      ],
      "metadata": {
        "colab": {
          "base_uri": "https://localhost:8080/"
        },
        "id": "Eb6gFplQqU5v",
        "outputId": "4849ce84-5f32-477a-cfa8-28cc104a8473"
      },
      "execution_count": 25,
      "outputs": [
        {
          "output_type": "stream",
          "name": "stdout",
          "text": [
            "Drive already mounted at /content/drive; to attempt to forcibly remount, call drive.mount(\"/content/drive\", force_remount=True).\n"
          ]
        }
      ]
    },
    {
      "cell_type": "markdown",
      "source": [
        "## Dataset\n",
        "\n",
        "The goal of the dataset is to run sentiment analysis.\n",
        "\n",
        "The dataset consists of five movie reviews. The first three come from the [Kaggle movie review dataset](https://www.kaggle.com/datasets/lakshmi25npathi/imdb-dataset-of-50k-movie-reviews). The two last ones were created for this notebook.\n",
        "\n",
        "You can replace the data by social media posts, e-commerce comments or any other text.\n",
        "\n",
        "Note: the dataset is small because OpenAI API requests are not free. Always keep an eye on your API budget.\n"
      ],
      "metadata": {
        "id": "U03EQHLtmZLl"
      }
    },
    {
      "cell_type": "markdown",
      "source": [
        "This first list contains the raw data(reviews) without the prompt."
      ],
      "metadata": {
        "id": "DlBBJz6n_-El"
      }
    },
    {
      "cell_type": "code",
      "source": [
        "mreviews = []\n",
        "mreviews.append(\"A wonderful little production. The filming technique is very unassuming- very old-time-BBC fashion and gives a comforting, and sometimes discomforting, sense of realism to the entire piece. The actors are extremely well chosen- Michael Sheen not only has got all the polari but he has all the voices down pat too! You can truly see the seamless editing guided by the references to Williams' diary entries, not only is it well worth the watching but it is a terrificly written and performed piece. A masterful production about one of the great master's of comedy and his life. The realism really comes home with the little things: the fantasy of the guard which, rather than use the traditional 'dream' techniques remains solid then disappears. It plays on our knowledge and our senses, particularly with the scenes concerning Orton and Halliwell and the sets (particularly of their flat with Halliwell's murals decorating every surface) are terribly well done.\")\n",
        "mreviews.append(\"I thought this was a wonderful way to spend time on a too hot summer weekend sitting in the air conditioned theater and watching a light-hearted comedy. The plot is simplistic, but the dialogue is witty and the characters are likable (even the well bread suspected serial killer). While some may be disappointed when they realize this is not Match Point 2: Risk Addiction, I thought it was proof that Woody Allen is still fully in control of the style many of us have grown to love.This was the most I'd laughed at one of Woody's comedies in years (dare I say a decade?). While I've never been impressed with Scarlet Johanson, in this she managed to tone down her sexy image and jumped right into a average, but spirited young woman.This may not be the crown jewel of his career, but it was wittier than Devil Wears Prada and more interesting than Superman a great comedy to go see with friends.\")\n",
        "mreviews.append(\"Petter Matteis Love in the Time of Money is a visually stunning film to watch. Mr. Mattei offers us a vivid portrait about human relations. This is a movie that seems to be telling us what money, power and success do to people in the different situations we encounter. This being a variation on the Arthur Schnitzler's play about the same theme, the director transfers the action to the present time New York where all these different characters meet and connect. Each one is connected in one way, or another to the next person, but no one seems to know the previous point of contact. Stylishly, the film has a sophisticated luxurious look. We are taken to see how these people live and the world they live in their own habitat.The only thing one gets out of all these souls in the picture is the different stages of loneliness each one inhabits. A big city is not exactly the best place in which human relations find sincere fulfillment, as one discerns is the case with most of the people we encounter.The acting is good under Mr. Mattei's direction. Steve Buscemi, Rosario Dawson, Carol Kane, Michael Imperioli, Adrian Grenier, and the rest of the talented cast, make these characters come alive.We wish Mr. Mattei good luck and await anxiously for his next work.\")\n",
        "mreviews.append(\"This was  a horrible movie. I hated it. It doesn't make sense although I admit the actors were excellent\")\n",
        "mreviews.append(\"I really want to go back and see this one again. The plot was cool and well written. They have a fantastic imagination and the actors were terrific\")"
      ],
      "metadata": {
        "id": "I8Xu8g7DPbwE"
      },
      "execution_count": 16,
      "outputs": []
    },
    {
      "cell_type": "markdown",
      "source": [
        "This second list contains the instruction provided and the sentence to be analyzed. The variable `rev` shows how you put phrases together to obtain any type of prompt you wish."
      ],
      "metadata": {
        "id": "DPHXtHXb_UjA"
      }
    },
    {
      "cell_type": "code",
      "source": [
        "reviews = []\n",
        "#rev=\"Which words in this sentence  show its a positive or negative sentiment: \" + \"A wonderful little production. The filming technique is very unassuming- very old-time-BBC fashion and gives a comforting, and sometimes discomforting, sense of realism to the entire piece. The actors are extremely well chosen- Michael Sheen not only has got all the polari but he has all the voices down pat too! You can truly see the seamless editing guided by the references to Williams' diary entries, not only is it well worth the watching but it is a terrificly written and performed piece. A masterful production about one of the great master's of comedy and his life. The realism really comes home with the little things: the fantasy of the guard which, rather than use the traditional 'dream' techniques remains solid then disappears. It plays on our knowledge and our senses, particularly with the scenes concerning Orton and Halliwell and the sets (particularly of their flat with Halliwell's murals decorating every surface) are terribly well done.\"\n",
        "reviews.append(\"Which words in this sentence  show its a positive or negative sentiment: A wonderful little production. The filming technique is very unassuming- very old-time-BBC fashion and gives a comforting, and sometimes discomforting, sense of realism to the entire piece. The actors are extremely well chosen- Michael Sheen not only has got all the polari but he has all the voices down pat too! You can truly see the seamless editing guided by the references to Williams' diary entries, not only is it well worth the watching but it is a terrificly written and performed piece. A masterful production about one of the great master's of comedy and his life. The realism really comes home with the little things: the fantasy of the guard which, rather than use the traditional 'dream' techniques remains solid then disappears. It plays on our knowledge and our senses, particularly with the scenes concerning Orton and Halliwell and the sets (particularly of their flat with Halliwell's murals decorating every surface) are terribly well done.\")\n",
        "reviews.append(\"Which words in this sentence  show its a positive or negative sentiment: I thought this was a wonderful way to spend time on a too hot summer weekend sitting in the air conditioned theater and watching a light-hearted comedy. The plot is simplistic, but the dialogue is witty and the characters are likable (even the well bread suspected serial killer). While some may be disappointed when they realize this is not Match Point 2: Risk Addiction, I thought it was proof that Woody Allen is still fully in control of the style many of us have grown to love.This was the most I'd laughed at one of Woody's comedies in years (dare I say a decade?). While I've never been impressed with Scarlet Johanson, in this she managed to tone down her sexy image and jumped right into a average, but spirited young woman.This may not be the crown jewel of his career, but it was wittier than Devil Wears Prada and more interesting than Superman a great comedy to go see with friends.\")\n",
        "reviews.append(\"Which words in this sentence  show its a positive or negative sentiment: Petter Matteis Love in the Time of Money is a visually stunning film to watch. Mr. Mattei offers us a vivid portrait about human relations. This is a movie that seems to be telling us what money, power and success do to people in the different situations we encounter. This being a variation on the Arthur Schnitzler's play about the same theme, the director transfers the action to the present time New York where all these different characters meet and connect. Each one is connected in one way, or another to the next person, but no one seems to know the previous point of contact. Stylishly, the film has a sophisticated luxurious look. We are taken to see how these people live and the world they live in their own habitat.The only thing one gets out of all these souls in the picture is the different stages of loneliness each one inhabits. A big city is not exactly the best place in which human relations find sincere fulfillment, as one discerns is the case with most of the people we encounter.The acting is good under Mr. Mattei's direction. Steve Buscemi, Rosario Dawson, Carol Kane, Michael Imperioli, Adrian Grenier, and the rest of the talented cast, make these characters come alive.We wish Mr. Mattei good luck and await anxiously for his next work.\")\n",
        "reviews.append(\"Which words in this sentence  show its a positive or negative sentiment: This was  a horrible movie. I hated it. It doesn't make sense although I admit the actors were excellent\")\n",
        "reviews.append(\"Which words in this sentence  show its a positive or negative sentiment: I really want to go back and see this one again. The plot was cool and well written. They have a fantastic imagination and the actors were terrific\")"
      ],
      "metadata": {
        "id": "um3PJjm3mM0u"
      },
      "execution_count": 17,
      "outputs": []
    },
    {
      "cell_type": "markdown",
      "source": [
        "##Sentiment Analysis"
      ],
      "metadata": {
        "id": "_6KHOsRSUqhG"
      }
    },
    {
      "cell_type": "code",
      "source": [
        "reviews"
      ],
      "metadata": {
        "id": "4VK0Rt6yoDQm",
        "colab": {
          "base_uri": "https://localhost:8080/"
        },
        "outputId": "f6374c7b-abe3-4e03-ce8c-a128590ba997"
      },
      "execution_count": 18,
      "outputs": [
        {
          "output_type": "execute_result",
          "data": {
            "text/plain": [
              "[\"Which words in this sentence  show its a positive or negative sentiment: A wonderful little production. The filming technique is very unassuming- very old-time-BBC fashion and gives a comforting, and sometimes discomforting, sense of realism to the entire piece. The actors are extremely well chosen- Michael Sheen not only has got all the polari but he has all the voices down pat too! You can truly see the seamless editing guided by the references to Williams' diary entries, not only is it well worth the watching but it is a terrificly written and performed piece. A masterful production about one of the great master's of comedy and his life. The realism really comes home with the little things: the fantasy of the guard which, rather than use the traditional 'dream' techniques remains solid then disappears. It plays on our knowledge and our senses, particularly with the scenes concerning Orton and Halliwell and the sets (particularly of their flat with Halliwell's murals decorating every surface) are terribly well done.\",\n",
              " \"Which words in this sentence  show its a positive or negative sentiment: I thought this was a wonderful way to spend time on a too hot summer weekend sitting in the air conditioned theater and watching a light-hearted comedy. The plot is simplistic, but the dialogue is witty and the characters are likable (even the well bread suspected serial killer). While some may be disappointed when they realize this is not Match Point 2: Risk Addiction, I thought it was proof that Woody Allen is still fully in control of the style many of us have grown to love.This was the most I'd laughed at one of Woody's comedies in years (dare I say a decade?). While I've never been impressed with Scarlet Johanson, in this she managed to tone down her sexy image and jumped right into a average, but spirited young woman.This may not be the crown jewel of his career, but it was wittier than Devil Wears Prada and more interesting than Superman a great comedy to go see with friends.\",\n",
              " \"Which words in this sentence  show its a positive or negative sentiment: Petter Matteis Love in the Time of Money is a visually stunning film to watch. Mr. Mattei offers us a vivid portrait about human relations. This is a movie that seems to be telling us what money, power and success do to people in the different situations we encounter. This being a variation on the Arthur Schnitzler's play about the same theme, the director transfers the action to the present time New York where all these different characters meet and connect. Each one is connected in one way, or another to the next person, but no one seems to know the previous point of contact. Stylishly, the film has a sophisticated luxurious look. We are taken to see how these people live and the world they live in their own habitat.The only thing one gets out of all these souls in the picture is the different stages of loneliness each one inhabits. A big city is not exactly the best place in which human relations find sincere fulfillment, as one discerns is the case with most of the people we encounter.The acting is good under Mr. Mattei's direction. Steve Buscemi, Rosario Dawson, Carol Kane, Michael Imperioli, Adrian Grenier, and the rest of the talented cast, make these characters come alive.We wish Mr. Mattei good luck and await anxiously for his next work.\",\n",
              " \"Which words in this sentence  show its a positive or negative sentiment: This was  a horrible movie. I hated it. It doesn't make sense although I admit the actors were excellent\",\n",
              " 'Which words in this sentence  show its a positive or negative sentiment: I really want to go back and see this one again. The plot was cool and well written. They have a fantastic imagination and the actors were terrific']"
            ]
          },
          "metadata": {},
          "execution_count": 18
        }
      ]
    },
    {
      "cell_type": "markdown",
      "source": [
        "###Preparing the prompt for ChatGPT\n",
        "\n",
        "You can use three roles: the system (general instruction, the assistant(providing more information), the user(the actual request) "
      ],
      "metadata": {
        "id": "qocZpEWAUjiV"
      }
    },
    {
      "cell_type": "code",
      "source": [
        "def prepare_message(prompt):\n",
        "\n",
        " uinput = prompt\n",
        "\n",
        " #preparing the prompt for OpenAI \n",
        " role=\"user\"\n",
        "\n",
        " line = {\"role\": role, \"content\": uinput}\n",
        " \n",
        " #creating the mesage\n",
        " assert1={\"role\": \"system\", \"content\": \"You are a helpful sentiment analysis system.\"}\n",
        " assert2={\"role\": \"assistant\", \"content\": \"Provide positive or negative sentiment analysis.\"}\n",
        " assert3=line\n",
        " iprompt = []\n",
        " iprompt.append(assert1)\n",
        " iprompt.append(assert2)\n",
        " iprompt.append(assert3)\n",
        "\n",
        " return iprompt"
      ],
      "metadata": {
        "id": "wl_ih8tPqebL"
      },
      "execution_count": 19,
      "outputs": []
    },
    {
      "cell_type": "markdown",
      "source": [
        "### Response and explanation"
      ],
      "metadata": {
        "id": "ewmgRfH-bOZE"
      }
    },
    {
      "cell_type": "code",
      "source": [
        "sentiments=[]\n",
        "l=len(reviews)\n",
        "for revnum in range(0,l):\n",
        "  prompt = reviews[revnum]\n",
        "  iprompt=prepare_message(prompt) #preparing the messages for ChatGPT\n",
        "  response=openai.ChatCompletion.create(model=\"gpt-3.5-turbo\",messages=iprompt) #ChatGPT dialog\n",
        "  text=response[\"choices\"][0][\"message\"][\"content\"] #response in JSON\n",
        "  print(mreviews[revnum])\n",
        "  print(\"ChatGPT response:\",text)\n",
        "  sentiments.append(text)\n"
      ],
      "metadata": {
        "id": "RCZg84cKkT__",
        "colab": {
          "base_uri": "https://localhost:8080/"
        },
        "outputId": "1b132769-6e90-4e30-f72b-edf422e75f40"
      },
      "execution_count": 20,
      "outputs": [
        {
          "output_type": "stream",
          "name": "stdout",
          "text": [
            "A wonderful little production. The filming technique is very unassuming- very old-time-BBC fashion and gives a comforting, and sometimes discomforting, sense of realism to the entire piece. The actors are extremely well chosen- Michael Sheen not only has got all the polari but he has all the voices down pat too! You can truly see the seamless editing guided by the references to Williams' diary entries, not only is it well worth the watching but it is a terrificly written and performed piece. A masterful production about one of the great master's of comedy and his life. The realism really comes home with the little things: the fantasy of the guard which, rather than use the traditional 'dream' techniques remains solid then disappears. It plays on our knowledge and our senses, particularly with the scenes concerning Orton and Halliwell and the sets (particularly of their flat with Halliwell's murals decorating every surface) are terribly well done.\n",
            "ChatGPT response: Positive words that indicate a positive sentiment in the sentence include \"wonderful\", \"comforting\", \"terrifically\", \"masterful\", \"well worth\", \"extremely well chosen\", \"seamless\", and \"terribly well done\". These words indicate that the production is of high quality and enjoyable to watch. There are no strong negative words in the sentence, but the phrase \"sometimes discomforting\" could indicate some unsettling moments in the production. Overall, the sentiment of the sentence is positive.\n",
            "I thought this was a wonderful way to spend time on a too hot summer weekend sitting in the air conditioned theater and watching a light-hearted comedy. The plot is simplistic, but the dialogue is witty and the characters are likable (even the well bread suspected serial killer). While some may be disappointed when they realize this is not Match Point 2: Risk Addiction, I thought it was proof that Woody Allen is still fully in control of the style many of us have grown to love.This was the most I'd laughed at one of Woody's comedies in years (dare I say a decade?). While I've never been impressed with Scarlet Johanson, in this she managed to tone down her sexy image and jumped right into a average, but spirited young woman.This may not be the crown jewel of his career, but it was wittier than Devil Wears Prada and more interesting than Superman a great comedy to go see with friends.\n",
            "ChatGPT response: Positive words in this sentence include: wonderful, light-hearted, witty, likable, proof, fully in control, love, laughed, spirited, great, and friends. Negative words were not found in this sentence, indicating a positive sentiment overall.\n",
            "Petter Matteis Love in the Time of Money is a visually stunning film to watch. Mr. Mattei offers us a vivid portrait about human relations. This is a movie that seems to be telling us what money, power and success do to people in the different situations we encounter. This being a variation on the Arthur Schnitzler's play about the same theme, the director transfers the action to the present time New York where all these different characters meet and connect. Each one is connected in one way, or another to the next person, but no one seems to know the previous point of contact. Stylishly, the film has a sophisticated luxurious look. We are taken to see how these people live and the world they live in their own habitat.The only thing one gets out of all these souls in the picture is the different stages of loneliness each one inhabits. A big city is not exactly the best place in which human relations find sincere fulfillment, as one discerns is the case with most of the people we encounter.The acting is good under Mr. Mattei's direction. Steve Buscemi, Rosario Dawson, Carol Kane, Michael Imperioli, Adrian Grenier, and the rest of the talented cast, make these characters come alive.We wish Mr. Mattei good luck and await anxiously for his next work.\n",
            "ChatGPT response: The words that show a positive sentiment in this sentence are \"visually stunning\" and \"vivid portrait\". The sentence also praises the acting and congratulates the director for his work. However, the overall sentiment may be perceived as slightly negative due to the reference of loneliness and the realization that human relations struggle to find sincere fulfillment in a big city.\n",
            "This was  a horrible movie. I hated it. It doesn't make sense although I admit the actors were excellent\n",
            "ChatGPT response: The words \"horrible\" and \"hated\" indicate negative sentiment while the words \"excellent\" indicate positive sentiment. Overall, the sentiment of the sentence may be perceived as negative due to the use of the word \"horrible\" and the statement \"I hated it.\"\n",
            "I really want to go back and see this one again. The plot was cool and well written. They have a fantastic imagination and the actors were terrific\n",
            "ChatGPT response: Positive sentiment words: \"really want\", \"cool\", \"well written\", \"fantastic\", and \"terrific\". All of these words express a positive sentiment about the movie. Therefore, the overall sentiment of the sentence is positive.\n"
          ]
        }
      ]
    },
    {
      "cell_type": "markdown",
      "source": [
        "Save the outputs for future use "
      ],
      "metadata": {
        "id": "IGqezL_MR7Pe"
      }
    },
    {
      "cell_type": "code",
      "source": [
        "import csv\n",
        "\n",
        "# Save the reviews and their corresponding sentiments to a CSV file\n",
        "with open(\"reviews.csv\", \"w\", newline=\"\") as f:\n",
        "    writer = csv.writer(f)\n",
        "    writer.writerow([\"review\", \"sentiment\"])\n",
        "    for i, review in enumerate(mreviews):\n",
        "        writer.writerow([review, sentiments[i]])\n",
        "\n",
        "# Confirm that the file was saved by reading it and printing its contents\n",
        "with open(\"reviews.csv\", \"r\") as f:\n",
        "    print(f.read())"
      ],
      "metadata": {
        "colab": {
          "base_uri": "https://localhost:8080/"
        },
        "id": "qrsvziXhQZ1M",
        "outputId": "b03c4570-14b2-4970-b31a-4206f3a01421"
      },
      "execution_count": 21,
      "outputs": [
        {
          "output_type": "stream",
          "name": "stdout",
          "text": [
            "review,sentiment\n",
            "\"A wonderful little production. The filming technique is very unassuming- very old-time-BBC fashion and gives a comforting, and sometimes discomforting, sense of realism to the entire piece. The actors are extremely well chosen- Michael Sheen not only has got all the polari but he has all the voices down pat too! You can truly see the seamless editing guided by the references to Williams' diary entries, not only is it well worth the watching but it is a terrificly written and performed piece. A masterful production about one of the great master's of comedy and his life. The realism really comes home with the little things: the fantasy of the guard which, rather than use the traditional 'dream' techniques remains solid then disappears. It plays on our knowledge and our senses, particularly with the scenes concerning Orton and Halliwell and the sets (particularly of their flat with Halliwell's murals decorating every surface) are terribly well done.\",\"Positive words that indicate a positive sentiment in the sentence include \"\"wonderful\"\", \"\"comforting\"\", \"\"terrifically\"\", \"\"masterful\"\", \"\"well worth\"\", \"\"extremely well chosen\"\", \"\"seamless\"\", and \"\"terribly well done\"\". These words indicate that the production is of high quality and enjoyable to watch. There are no strong negative words in the sentence, but the phrase \"\"sometimes discomforting\"\" could indicate some unsettling moments in the production. Overall, the sentiment of the sentence is positive.\"\n",
            "\"I thought this was a wonderful way to spend time on a too hot summer weekend sitting in the air conditioned theater and watching a light-hearted comedy. The plot is simplistic, but the dialogue is witty and the characters are likable (even the well bread suspected serial killer). While some may be disappointed when they realize this is not Match Point 2: Risk Addiction, I thought it was proof that Woody Allen is still fully in control of the style many of us have grown to love.This was the most I'd laughed at one of Woody's comedies in years (dare I say a decade?). While I've never been impressed with Scarlet Johanson, in this she managed to tone down her sexy image and jumped right into a average, but spirited young woman.This may not be the crown jewel of his career, but it was wittier than Devil Wears Prada and more interesting than Superman a great comedy to go see with friends.\",\"Positive words in this sentence include: wonderful, light-hearted, witty, likable, proof, fully in control, love, laughed, spirited, great, and friends. Negative words were not found in this sentence, indicating a positive sentiment overall.\"\n",
            "\"Petter Matteis Love in the Time of Money is a visually stunning film to watch. Mr. Mattei offers us a vivid portrait about human relations. This is a movie that seems to be telling us what money, power and success do to people in the different situations we encounter. This being a variation on the Arthur Schnitzler's play about the same theme, the director transfers the action to the present time New York where all these different characters meet and connect. Each one is connected in one way, or another to the next person, but no one seems to know the previous point of contact. Stylishly, the film has a sophisticated luxurious look. We are taken to see how these people live and the world they live in their own habitat.The only thing one gets out of all these souls in the picture is the different stages of loneliness each one inhabits. A big city is not exactly the best place in which human relations find sincere fulfillment, as one discerns is the case with most of the people we encounter.The acting is good under Mr. Mattei's direction. Steve Buscemi, Rosario Dawson, Carol Kane, Michael Imperioli, Adrian Grenier, and the rest of the talented cast, make these characters come alive.We wish Mr. Mattei good luck and await anxiously for his next work.\",\"The words that show a positive sentiment in this sentence are \"\"visually stunning\"\" and \"\"vivid portrait\"\". The sentence also praises the acting and congratulates the director for his work. However, the overall sentiment may be perceived as slightly negative due to the reference of loneliness and the realization that human relations struggle to find sincere fulfillment in a big city.\"\n",
            "This was  a horrible movie. I hated it. It doesn't make sense although I admit the actors were excellent,\"The words \"\"horrible\"\" and \"\"hated\"\" indicate negative sentiment while the words \"\"excellent\"\" indicate positive sentiment. Overall, the sentiment of the sentence may be perceived as negative due to the use of the word \"\"horrible\"\" and the statement \"\"I hated it.\"\"\"\n",
            "I really want to go back and see this one again. The plot was cool and well written. They have a fantastic imagination and the actors were terrific,\"Positive sentiment words: \"\"really want\"\", \"\"cool\"\", \"\"well written\"\", \"\"fantastic\"\", and \"\"terrific\"\". All of these words express a positive sentiment about the movie. Therefore, the overall sentiment of the sentence is positive.\"\n",
            "\n"
          ]
        }
      ]
    },
    {
      "cell_type": "markdown",
      "source": [
        "Load the outputs and explanations"
      ],
      "metadata": {
        "id": "ZEnde2O3SDi6"
      }
    },
    {
      "cell_type": "code",
      "source": [
        "import pandas as pd\n",
        "df = pd.read_csv('reviews.csv')\n",
        "df"
      ],
      "metadata": {
        "colab": {
          "base_uri": "https://localhost:8080/",
          "height": 206
        },
        "id": "jyOnlv8VRVGY",
        "outputId": "6217ea16-5244-47d4-b0e6-28eec55dc66e"
      },
      "execution_count": 22,
      "outputs": [
        {
          "output_type": "execute_result",
          "data": {
            "text/plain": [
              "                                              review  \\\n",
              "0  A wonderful little production. The filming tec...   \n",
              "1  I thought this was a wonderful way to spend ti...   \n",
              "2  Petter Matteis Love in the Time of Money is a ...   \n",
              "3  This was  a horrible movie. I hated it. It doe...   \n",
              "4  I really want to go back and see this one agai...   \n",
              "\n",
              "                                           sentiment  \n",
              "0  Positive words that indicate a positive sentim...  \n",
              "1  Positive words in this sentence include: wonde...  \n",
              "2  The words that show a positive sentiment in th...  \n",
              "3  The words \"horrible\" and \"hated\" indicate nega...  \n",
              "4  Positive sentiment words: \"really want\", \"cool...  "
            ],
            "text/html": [
              "\n",
              "  <div id=\"df-993c8b71-0237-4a42-827c-9b6adc3f26d5\">\n",
              "    <div class=\"colab-df-container\">\n",
              "      <div>\n",
              "<style scoped>\n",
              "    .dataframe tbody tr th:only-of-type {\n",
              "        vertical-align: middle;\n",
              "    }\n",
              "\n",
              "    .dataframe tbody tr th {\n",
              "        vertical-align: top;\n",
              "    }\n",
              "\n",
              "    .dataframe thead th {\n",
              "        text-align: right;\n",
              "    }\n",
              "</style>\n",
              "<table border=\"1\" class=\"dataframe\">\n",
              "  <thead>\n",
              "    <tr style=\"text-align: right;\">\n",
              "      <th></th>\n",
              "      <th>review</th>\n",
              "      <th>sentiment</th>\n",
              "    </tr>\n",
              "  </thead>\n",
              "  <tbody>\n",
              "    <tr>\n",
              "      <th>0</th>\n",
              "      <td>A wonderful little production. The filming tec...</td>\n",
              "      <td>Positive words that indicate a positive sentim...</td>\n",
              "    </tr>\n",
              "    <tr>\n",
              "      <th>1</th>\n",
              "      <td>I thought this was a wonderful way to spend ti...</td>\n",
              "      <td>Positive words in this sentence include: wonde...</td>\n",
              "    </tr>\n",
              "    <tr>\n",
              "      <th>2</th>\n",
              "      <td>Petter Matteis Love in the Time of Money is a ...</td>\n",
              "      <td>The words that show a positive sentiment in th...</td>\n",
              "    </tr>\n",
              "    <tr>\n",
              "      <th>3</th>\n",
              "      <td>This was  a horrible movie. I hated it. It doe...</td>\n",
              "      <td>The words \"horrible\" and \"hated\" indicate nega...</td>\n",
              "    </tr>\n",
              "    <tr>\n",
              "      <th>4</th>\n",
              "      <td>I really want to go back and see this one agai...</td>\n",
              "      <td>Positive sentiment words: \"really want\", \"cool...</td>\n",
              "    </tr>\n",
              "  </tbody>\n",
              "</table>\n",
              "</div>\n",
              "      <button class=\"colab-df-convert\" onclick=\"convertToInteractive('df-993c8b71-0237-4a42-827c-9b6adc3f26d5')\"\n",
              "              title=\"Convert this dataframe to an interactive table.\"\n",
              "              style=\"display:none;\">\n",
              "        \n",
              "  <svg xmlns=\"http://www.w3.org/2000/svg\" height=\"24px\"viewBox=\"0 0 24 24\"\n",
              "       width=\"24px\">\n",
              "    <path d=\"M0 0h24v24H0V0z\" fill=\"none\"/>\n",
              "    <path d=\"M18.56 5.44l.94 2.06.94-2.06 2.06-.94-2.06-.94-.94-2.06-.94 2.06-2.06.94zm-11 1L8.5 8.5l.94-2.06 2.06-.94-2.06-.94L8.5 2.5l-.94 2.06-2.06.94zm10 10l.94 2.06.94-2.06 2.06-.94-2.06-.94-.94-2.06-.94 2.06-2.06.94z\"/><path d=\"M17.41 7.96l-1.37-1.37c-.4-.4-.92-.59-1.43-.59-.52 0-1.04.2-1.43.59L10.3 9.45l-7.72 7.72c-.78.78-.78 2.05 0 2.83L4 21.41c.39.39.9.59 1.41.59.51 0 1.02-.2 1.41-.59l7.78-7.78 2.81-2.81c.8-.78.8-2.07 0-2.86zM5.41 20L4 18.59l7.72-7.72 1.47 1.35L5.41 20z\"/>\n",
              "  </svg>\n",
              "      </button>\n",
              "      \n",
              "  <style>\n",
              "    .colab-df-container {\n",
              "      display:flex;\n",
              "      flex-wrap:wrap;\n",
              "      gap: 12px;\n",
              "    }\n",
              "\n",
              "    .colab-df-convert {\n",
              "      background-color: #E8F0FE;\n",
              "      border: none;\n",
              "      border-radius: 50%;\n",
              "      cursor: pointer;\n",
              "      display: none;\n",
              "      fill: #1967D2;\n",
              "      height: 32px;\n",
              "      padding: 0 0 0 0;\n",
              "      width: 32px;\n",
              "    }\n",
              "\n",
              "    .colab-df-convert:hover {\n",
              "      background-color: #E2EBFA;\n",
              "      box-shadow: 0px 1px 2px rgba(60, 64, 67, 0.3), 0px 1px 3px 1px rgba(60, 64, 67, 0.15);\n",
              "      fill: #174EA6;\n",
              "    }\n",
              "\n",
              "    [theme=dark] .colab-df-convert {\n",
              "      background-color: #3B4455;\n",
              "      fill: #D2E3FC;\n",
              "    }\n",
              "\n",
              "    [theme=dark] .colab-df-convert:hover {\n",
              "      background-color: #434B5C;\n",
              "      box-shadow: 0px 1px 3px 1px rgba(0, 0, 0, 0.15);\n",
              "      filter: drop-shadow(0px 1px 2px rgba(0, 0, 0, 0.3));\n",
              "      fill: #FFFFFF;\n",
              "    }\n",
              "  </style>\n",
              "\n",
              "      <script>\n",
              "        const buttonEl =\n",
              "          document.querySelector('#df-993c8b71-0237-4a42-827c-9b6adc3f26d5 button.colab-df-convert');\n",
              "        buttonEl.style.display =\n",
              "          google.colab.kernel.accessAllowed ? 'block' : 'none';\n",
              "\n",
              "        async function convertToInteractive(key) {\n",
              "          const element = document.querySelector('#df-993c8b71-0237-4a42-827c-9b6adc3f26d5');\n",
              "          const dataTable =\n",
              "            await google.colab.kernel.invokeFunction('convertToInteractive',\n",
              "                                                     [key], {});\n",
              "          if (!dataTable) return;\n",
              "\n",
              "          const docLinkHtml = 'Like what you see? Visit the ' +\n",
              "            '<a target=\"_blank\" href=https://colab.research.google.com/notebooks/data_table.ipynb>data table notebook</a>'\n",
              "            + ' to learn more about interactive tables.';\n",
              "          element.innerHTML = '';\n",
              "          dataTable['output_type'] = 'display_data';\n",
              "          await google.colab.output.renderOutput(dataTable, element);\n",
              "          const docLink = document.createElement('div');\n",
              "          docLink.innerHTML = docLinkHtml;\n",
              "          element.appendChild(docLink);\n",
              "        }\n",
              "      </script>\n",
              "    </div>\n",
              "  </div>\n",
              "  "
            ]
          },
          "metadata": {},
          "execution_count": 22
        }
      ]
    },
    {
      "cell_type": "markdown",
      "source": [
        "## SHAP\n",
        "\n",
        "This example illustrates how ChatGPT can explain SHAP and create an example in Python automatically with a davinci model.\n",
        "\n",
        "The example can be converted to a ChatGPT prompt. However, each model has its qualities. davinci is an excellent model."
      ],
      "metadata": {
        "id": "0WSP5NjaLAkE"
      }
    },
    {
      "cell_type": "markdown",
      "source": [
        "**Introduction by ChatGPT:**\n",
        "\n",
        "*ChatGPT wrote this entire paragraph and the code that follows.*\n",
        "\n",
        "**Definition**\n",
        "\n",
        "SHAP (SHapley Additive exPlanations) is a type of Explainable Artificial Intelligence (XAI) that helps to explain the output of machine learning models. It is a model-agnostic technique that assigns an importance score to each feature or input variable in the model. The importance score represents the contribution of that feature towards the final output of the model.\n",
        "\n",
        "The SHAP method is based on the concept of Shapley values from cooperative game theory. Shapley values are a way to fairly distribute the value of a group's output among its members based on their individual contributions. In the context of machine learning, SHAP assigns an importance score to each feature based on its contribution to the prediction compared to all possible combinations of features.\n",
        "\n",
        "SHAP provides a way to visualize and interpret the behavior of complex machine learning models, making it easier for users to understand how the model arrived at a particular prediction or decision. It can be particularly useful in high-stakes applications, such as healthcare or finance, where the decisions made by machine learning models can have a significant impact on people's lives.\n",
        "\n",
        "**The equation**\n",
        "\n",
        "The SHAP method is based on the Shapley values concept from cooperative game theory. The equation for computing Shapley values for a feature or input variable i is:\n",
        "\n",
        "φ_i = 1/N * Σ_{S⊆C{i}} (N-|S|-1)!|S|! * [Φ(S U {i}) − Φ(S)]\n",
        "\n",
        "where:\n",
        "\n",
        "φ_i is the Shapley value for feature i\n",
        "N is the total number of input features in the model\n",
        "C is the set of all input features\n",
        "S is a subset of C not including feature i\n",
        "Φ(S) is the predicted output of the model when input features in S are used\n",
        "Φ(S U {i}) is the predicted output of the model when input features in S plus feature i are used\n",
        "The equation calculates the contribution of feature i to the predicted output of the model by averaging its marginal contribution over all possible feature combinations. The computation involves evaluating the model's output with and without the feature i, and comparing the difference in prediction to the other input features.\n",
        "\n",
        "**An example**\n",
        "\n",
        "Let's consider a simple example of a machine learning model that predicts the price of a house based on its features such as size, number of bedrooms, and location. We want to use the SHAP method to understand how the model arrived at a particular prediction.\n",
        "\n",
        "Suppose the model predicts the price of a house to be $500,000, and we want to know the contribution of the feature \"number of bedrooms\" to this prediction. The equation for calculating the Shapley value of this feature is:\n",
        "\n",
        "φ_i = 1/N * Σ_{S⊆C{i}} (N-|S|-1)!|S|! * [Φ(S U {i}) − Φ(S)]\n",
        "\n",
        "where:\n",
        "\n",
        "i = \"number of bedrooms\"\n",
        "\n",
        "N = 3 (total number of features in the model)\n",
        "\n",
        "C = {size, number of bedrooms, location}\n",
        "\n",
        "Φ(S) is the predicted price of a house with features in S\n",
        "Suppose we evaluate the model's output for the following feature combinations:\n",
        "\n",
        "Φ({size}) = $400,000\n",
        "\n",
        "Φ({location}) = $550,000\n",
        "\n",
        "Φ({size, location}) = $600,000\n",
        "\n",
        "Using the equation, we can compute the Shapley value for the \"number of bedrooms\" feature as:\n",
        "\n",
        "φ_i = 1/3 * [ (2!0! * ($600,000 - $550,000)) + (2!1! * ($550,000 - $500,000)) + (2!0! * ($500,000 - $400,000)) ]\n",
        "= 1/3 * [ (2 * $50,000) + (2 * $50,000) + (2 * $100,000) ]\n",
        "= $66,667\n",
        "\n",
        "This means that the \"number of bedrooms\" feature contributed about $66,667 to the predicted price of the house. By computing the Shapley values for all features in the model, we can gain a better understanding of how the model arrived at its prediction and which features were most important.\n",
        "\n",
        "** Code **\n",
        "\n",
        "This code will generate a text output explaining how to compute the Shapley value for the \"number of bedrooms\" feature in the house price prediction model based on the given feature combinations. The output will be generated using the GPT-3.5-turbo language model.\n",
        "\n",
        "Example Python code snippet that uses the GPT-3.5-turbo model to generate a text output explaining the SHAP values for the house price prediction model:\n",
        "\n",
        "\n"
      ],
      "metadata": {
        "id": "wjWIT5KWLMCI"
      }
    },
    {
      "cell_type": "code",
      "source": [
        "import openai\n",
        "import json\n",
        "\n",
        "# Define the prompt\n",
        "prompt = (f\"Consider a machine learning model that predicts the price of a house based on its features such as size, number of bedrooms, and location. \"\n",
        "          f\"The model predicts the price of a house to be $500,000, and we want to know the contribution of the feature 'number of bedrooms' to this prediction. \"\n",
        "          f\"Compute the Shapley value for this feature using the following feature combinations:\\n\\n\"\n",
        "          f\"Φ({{size}}) = $400,000\\n\"\n",
        "          f\"Φ({{location}}) = $550,000\\n\"\n",
        "          f\"Φ({{size, location}}) = $600,000\\n\\n\"\n",
        "          f\"What is the contribution of the 'number of bedrooms' feature to the predicted price of the house?\\n\\n\"\n",
        "          f\"Shapley value for 'number of bedrooms' feature = \"\n",
        "         )\n",
        "\n",
        "# Set up davinci parameters\n",
        "model_engine = \"text-davinci-002\"\n",
        "prompt_length = len(prompt)\n",
        "max_tokens = 1024\n",
        "\n",
        "# Generate text output with GPT-3.5-turbo\n",
        "response = openai.Completion.create(\n",
        "    engine=model_engine,\n",
        "    prompt=prompt,\n",
        "    #prompt_length=prompt_length,\n",
        "    max_tokens=max_tokens,\n",
        "    n=1,\n",
        "    stop=None,\n",
        "    temperature=0.5,\n",
        ")\n",
        "\n",
        "# Parse the output\n",
        "output = response.choices[0].text.strip()\n",
        "\n",
        "# Print the output\n",
        "print(output)\n"
      ],
      "metadata": {
        "colab": {
          "base_uri": "https://localhost:8080/"
        },
        "id": "SS76Kw2oLHHd",
        "outputId": "62fcb34e-10c5-44d5-8027-d6280ffd5a73"
      },
      "execution_count": 29,
      "outputs": [
        {
          "output_type": "stream",
          "name": "stdout",
          "text": [
            "$50,000\n"
          ]
        }
      ]
    },
    {
      "cell_type": "markdown",
      "source": [
        "#Next steps\n",
        "\n",
        "Explore the notebook with your data, modify the prompts, discover what ChatGPT can do for your project.\n",
        "\n"
      ],
      "metadata": {
        "id": "5LH8bvB6awze"
      }
    }
  ]
}