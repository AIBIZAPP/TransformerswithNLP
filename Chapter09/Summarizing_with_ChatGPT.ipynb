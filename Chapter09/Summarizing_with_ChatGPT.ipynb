{
  "cells": [
    {
      "attachments": {},
      "cell_type": "markdown",
      "metadata": {
        "id": "b_QjF04i9neT"
      },
      "source": [
        "#Summarizing_with_ChatGPT\n",
        "Copyright 2023 Denis Rothman, MIT License\n",
        "\n",
        "**March 2023 message by Denis Rothman:\"\n",
        "This notebook replaces[Training_OpenAI_GPT_2_CH09.ipynb](https://github.com/Denis2054/Transformers-for-NLP-2nd-Edition/blob/main/Chapter09/Training_OpenAI_GPT_2_CH09.ipynb). Google Colab does not support Tensorflow 1.x anymore which makes the program unstable.\n",
        "\n",
        "The goal of *Transformers for NLP, 2nd Edition, Chapter 9, Matching Tokenizers and Datasets*, is to show how tokenizing works and the limitations of transformer models when embedding tokens.\n",
        "\n",
        "This notebook shows how to use GPT-3.5(ChatGPT) with the OpenAI API to perform the summarization task of chapter 9, experimenting with rare words and showing the limits of SOA transformers no matter how evolved they are:\n",
        "\n",
        "1. Installing openai and your API key<br>\n",
        "2. Summarization<br>\n",
        "3. Tokenizing<br>\n",
        "4. Exploring the limits<br>\n",
        "5. Conclusion<br>\n",
        "\n",
        "To get the best out of this notebook:\n",
        "\n",
        "*  make sure you have read Chapter 7\n",
        "\n",
        "*  once you have understood the theory, go to section 4 of this notebook,  *4. Exploring the limits*, of this notebook and try to find more limitations and think of how you can filter them and find solutions.\n",
        "\n",
        "\n"
      ]
    },
    {
      "cell_type": "code",
      "execution_count": null,
      "metadata": {
        "id": "lUn5YJeQvy-F"
      },
      "outputs": [],
      "source": [
        "!pip install --upgrade pip"
      ]
    },
    {
      "cell_type": "markdown",
      "metadata": {
        "id": "Y-crABM8l3Xi"
      },
      "source": [
        "#1.Installing openai\n"
      ]
    },
    {
      "cell_type": "markdown",
      "metadata": {
        "id": "ygFUriSCvTNb"
      },
      "source": [
        "## installing and importing openai"
      ]
    },
    {
      "cell_type": "code",
      "execution_count": null,
      "metadata": {
        "id": "9G79pIy_Mg5Y"
      },
      "outputs": [],
      "source": [
        "#Importing openai\n",
        "try:\n",
        "  import openai\n",
        "except:\n",
        "  !pip install openai\n",
        "  import openai"
      ]
    },
    {
      "cell_type": "markdown",
      "metadata": {
        "id": "R7YHxHaLmAEi"
      },
      "source": [
        "##API Key"
      ]
    },
    {
      "cell_type": "code",
      "execution_count": null,
      "metadata": {
        "colab": {
          "base_uri": "https://localhost:8080/"
        },
        "id": "Eb6gFplQqU5v",
        "outputId": "f51b30fc-477e-49af-ae7d-8fc514d118db"
      },
      "outputs": [
        {
          "name": "stdout",
          "output_type": "stream",
          "text": [
            "Mounted at /content/drive\n"
          ]
        }
      ],
      "source": [
        "#2.API Key\n",
        "#Store you key in a file and read it(you can type it directly in the notebook but it will be visible for somebody next to you)\n",
        "from google.colab import drive\n",
        "drive.mount('/content/drive')\n",
        "f = open(\"drive/MyDrive/files/api_key.txt\", \"r\")\n",
        "API_KEY=f.readline()\n",
        "f.close()\n",
        "\n",
        "#The OpenAI Key\n",
        "import os\n",
        "os.environ['OPENAI_API_KEY'] =API_KEY\n",
        "openai.api_key = os.getenv(\"OPENAI_API_KEY\")\n"
      ]
    },
    {
      "cell_type": "markdown",
      "metadata": {
        "id": "U03EQHLtmZLl"
      },
      "source": [
        "#2. gpt-3.5 turbo(ChatGPT) dialog function"
      ]
    },
    {
      "cell_type": "markdown",
      "metadata": {
        "id": "1moBmYTVp-ih"
      },
      "source": [
        "preparing the NLP message"
      ]
    },
    {
      "cell_type": "code",
      "execution_count": null,
      "metadata": {
        "id": "wl_ih8tPqebL"
      },
      "outputs": [],
      "source": [
        " def dialog(uinput):\n",
        "   #preparing the prompt for OpenAI \n",
        "   role=\"user\"\n",
        "   \n",
        "   #prompt=\"Where is Tahiti located?\" #maintenance or if you do not want to use a microphone\n",
        "   line = {\"role\": role, \"content\": uinput}\n",
        "\n",
        "   #creating the mesage\n",
        "   assert1={\"role\": \"system\", \"content\": \"You are a Natural Language Processing Assistant.\"}\n",
        "   assert2={\"role\": \"assistant\", \"content\": \"You are helping viewers analyze social medial better.\"}\n",
        "   assert3=line\n",
        "   iprompt = []\n",
        "   iprompt.append(assert1)\n",
        "   iprompt.append(assert2)\n",
        "   iprompt.append(assert3)\n",
        "\n",
        "   #sending the message to ChatGPT\n",
        "   response=openai.ChatCompletion.create(model=\"gpt-3.5-turbo\",messages=iprompt) #ChatGPT dialog\n",
        "   text=response[\"choices\"][0][\"message\"][\"content\"] #response in JSON\n",
        "\n",
        "   return text"
      ]
    },
    {
      "cell_type": "markdown",
      "metadata": {
        "id": "o-qY6V3mqMEb"
      },
      "source": [
        "# 3.Summarizing"
      ]
    },
    {
      "cell_type": "markdown",
      "metadata": {
        "id": "AKnTT3-j3TjG"
      },
      "source": [
        "The next to summarize:\n",
        "\n",
        "\"During such processes, cells sense the environment and respond to external factors that induce a certain direction of motion towards specific targets (taxis): this results in a persistent migration in a certain preferential direction. The guidance cues leading to directed migration may be biochemical or biophysical. Biochemical cues can be, for example, soluble factors or growth factors that give rise to chemotaxis, which involves a mono-directional stimulus. Other cues generating mono-directional stimuli include, for instance, bound ligands to the substratum that induce haptotaxis, durotaxis, that involves migration towards regions with an increasing stiffness of the ECM, electrotaxis, also known as galvanotaxis, that prescribes a directed motion guided by an electric field or current, or phototaxis, referring to the movement oriented by a stimulus of light [34]. Important biophysical cues are some of the properties of the extracellular matrix (ECM), first among all the alignment of collagen fibers and its stiffness. In particular, the fiber alignment is shown to stimulate contact guidance [22, 21].\"\n",
        "\n",
        "\n",
        "The summary by ChatGPT seems acceptable but implementing controlls by an SME(Subject Matter Expert) is good practice."
      ]
    },
    {
      "cell_type": "code",
      "execution_count": null,
      "metadata": {
        "colab": {
          "base_uri": "https://localhost:8080/"
        },
        "id": "vM6fWKbit8qV",
        "outputId": "6828967c-7780-44ab-8cd9-5130f77b87d2"
      },
      "outputs": [
        {
          "name": "stdout",
          "output_type": "stream",
          "text": [
            "Viewer request Summarize the following paragraph: During such processes, cells sense the environment and respond to external factors that induce a certain direction of motion towards specific targets (taxis): this results in a persistent migration in a certain preferential direction. The guidance cues leading to directed migration may be biochemical or biophysical. Biochemical cues can be, for example, soluble factors or growth factors that give rise to chemotaxis, which involves a mono-directional stimulus. Other cues generating mono-directional stimuli include, for instance, bound ligands to the substratum that induce haptotaxis, durotaxis, that involves migration towards regions with an increasing stiffness of the ECM, electrotaxis, also known as galvanotaxis, that prescribes a directed motion guided by an electric field or current, or phototaxis, referring to the movement oriented by a stimulus of light [34]. Important biophysical cues are some of the properties of the extracellular matrix (ECM), first among all the alignment of collagen fibers and its stiffness. In particular, the fiber alignment is shown to stimulate contact guidance [22, 21].\n",
            "ChatGPT response: The paragraph describes how cells migrate towards specific targets through directed migration. These targets may be induced through biochemical or biophysical cues, such as soluble factors, growth factors, bound ligands, increasing stiffness of the extracellular matrix, electric fields, and light. The alignment of collagen fibers in the extracellular matrix is an important biophysical cue that stimulates contact guidance.\n"
          ]
        }
      ],
      "source": [
        "uinput=\"Summarize the following paragraph: During such processes, cells sense the environment and respond to external factors that induce a certain direction of motion towards specific targets (taxis): this results in a persistent migration in a certain preferential direction. The guidance cues leading to directed migration may be biochemical or biophysical. Biochemical cues can be, for example, soluble factors or growth factors that give rise to chemotaxis, which involves a mono-directional stimulus. Other cues generating mono-directional stimuli include, for instance, bound ligands to the substratum that induce haptotaxis, durotaxis, that involves migration towards regions with an increasing stiffness of the ECM, electrotaxis, also known as galvanotaxis, that prescribes a directed motion guided by an electric field or current, or phototaxis, referring to the movement oriented by a stimulus of light [34]. Important biophysical cues are some of the properties of the extracellular matrix (ECM), first among all the alignment of collagen fibers and its stiffness. In particular, the fiber alignment is shown to stimulate contact guidance [22, 21].\"\n",
        "text=dialog(uinput) #preparing the messages for ChatGPT\n",
        "print(\"Viewer request\",uinput)\n",
        "print(\"ChatGPT response:\",text)"
      ]
    },
    {
      "cell_type": "markdown",
      "metadata": {
        "id": "bPgasm5AvZi2"
      },
      "source": [
        "# 4.Exploring the limits"
      ]
    },
    {
      "cell_type": "markdown",
      "metadata": {
        "id": "0bL9Aa3S7F4E"
      },
      "source": [
        "In chapter, GPT-2 struggles with \"amoeboid\". GPT-3.5 turbo(ChatGPT) finds the correct definition even in a difficult sentence."
      ]
    },
    {
      "cell_type": "code",
      "execution_count": null,
      "metadata": {
        "colab": {
          "base_uri": "https://localhost:8080/"
        },
        "id": "V35q2q7Z5e6X",
        "outputId": "35a68db2-e7b3-45ea-d8d9-7d57abd98a1f"
      },
      "outputs": [
        {
          "name": "stdout",
          "output_type": "stream",
          "text": [
            "Viewer request Explain this sentence: I don't use a false foot to move forward so I am not an amoeboid today.\n",
            "ChatGPT response: This sentence is a metaphor that means the speaker is not being deceitful or dishonest to progress in life, therefore they are not like an amoeboid, which is a single-celled organism that moves using pseudopodia or false feet. In other words, the speaker is saying that they are being honest and authentic in their actions to move forward in life.\n"
          ]
        }
      ],
      "source": [
        "#amoeboid \n",
        "uinput=\"Explain this sentence: I don't use a false foot to move forward so I am not an amoeboid today.\"\n",
        "text=dialog(uinput) #preparing the messages for ChatGPT\n",
        "print(\"Viewer request\",uinput)\n",
        "print(\"ChatGPT response:\",text)\n"
      ]
    },
    {
      "cell_type": "markdown",
      "metadata": {
        "id": "XI5dlRMa8PNJ"
      },
      "source": [
        "ChatGPT struggles with  [\"icing\" in hockey](https://www.merriam-webster.com/dictionary/icing)\n",
        "\n",
        "\"pucks\" is translated as nonesense in Frence as of March 15th, 2023. This might improve in the future.\n",
        "\n",
        "Viewer request English to French: Icing pucks is fun!\n",
        "ChatGPT response: Glaçage des rondelles est amusant!"
      ]
    },
    {
      "cell_type": "code",
      "execution_count": null,
      "metadata": {
        "colab": {
          "base_uri": "https://localhost:8080/"
        },
        "id": "l_J0HzHa7V83",
        "outputId": "b0cf506f-2479-477e-8ee4-bdcc8175356c"
      },
      "outputs": [
        {
          "name": "stdout",
          "output_type": "stream",
          "text": [
            "Viewer request English to French: Icing pucks is fun!\n",
            "ChatGPT response: Glaçage des rondelles est amusant!\n"
          ]
        }
      ],
      "source": [
        "#The verb to ice pucks\n",
        "uinput=\"English to French: Icing pucks is fun!\"\n",
        "text=dialog(uinput) #preparing the messages for ChatGPT\n",
        "print(\"Viewer request\",uinput)\n",
        "print(\"ChatGPT response:\",text)"
      ]
    },
    {
      "cell_type": "markdown",
      "metadata": {
        "id": "l0fLQ9Gf9bA0"
      },
      "source": [
        "The back translation produces nonesense:\n",
        "\n",
        "Viewer request French to English: \"Glaçage des rondelles est amusant!!\"\n",
        "ChatGPT response: \"Icing the slices is fun!!\""
      ]
    },
    {
      "cell_type": "code",
      "execution_count": null,
      "metadata": {
        "colab": {
          "base_uri": "https://localhost:8080/"
        },
        "id": "_HzIAAs19UOd",
        "outputId": "2615f8fd-d844-44d8-c8bc-4d466934210b"
      },
      "outputs": [
        {
          "name": "stdout",
          "output_type": "stream",
          "text": [
            "Viewer request French to English: Glaçage des rondelles est amusant!!\n",
            "ChatGPT response: \"Icing the slices is fun!!\"\n"
          ]
        }
      ],
      "source": [
        "#The verb to ice pucks\n",
        "uinput=\"French to English: Glaçage des rondelles est amusant!!\"\n",
        "text=dialog(uinput) #preparing the messages for ChatGPT\n",
        "print(\"Viewer request\",uinput)\n",
        "print(\"ChatGPT response:\",text)"
      ]
    },
    {
      "cell_type": "markdown",
      "metadata": {
        "id": "Czjyu19-9i7q"
      },
      "source": [
        "# 5.Conclusion\n",
        "\n",
        "GPT-2 has reached it limits.\n",
        "\n",
        "GPT-3.5 turbo(ChatGPT) represents a huge step forward.\n",
        "\n",
        "We simply have to accept the limitations and provide altternative solutions when we reach them.\n",
        "\n",
        "There is still much work to do!\n",
        "\n",
        "Next Steps: Explore SOA examples in the [BONUS](https://github.com/Denis2054/Transformers-for-NLP-2nd-Edition/blob/main/Bonus/Readme.md) section! See what they can do and take them to their limits!\n",
        "\n",
        "\n",
        "\n",
        "\n"
      ]
    }
  ],
  "metadata": {
    "colab": {
      "provenance": [],
      "toc_visible": true
    },
    "kernelspec": {
      "display_name": "Python 3",
      "name": "python3"
    },
    "language_info": {
      "name": "python"
    }
  },
  "nbformat": 4,
  "nbformat_minor": 0
}
