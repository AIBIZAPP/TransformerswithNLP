{
  "cells": [
    {
      "cell_type": "markdown",
      "source": [
        "#Whisper and gTT2\n",
        "copyright 2023, Denis Rothman, MIT license\n",
        "\n",
        "This notebook shows how to enhance an application with tools such as gTTS(Google Text-to-Speech) and OpenAI Whisper(Speech-to-Text)\n"
      ],
      "metadata": {
        "id": "_HTOoAuFtg9j"
      }
    },
    {
      "cell_type": "markdown",
      "source": [
        "#Installing OpenAI and gTTS"
      ],
      "metadata": {
        "id": "c5InhrUpvXKi"
      }
    },
    {
      "cell_type": "code",
      "source": [
        "!pip install --upgrade pip"
      ],
      "metadata": {
        "id": "V6gjbfHeh5GS"
      },
      "execution_count": null,
      "outputs": []
    },
    {
      "cell_type": "markdown",
      "source": [
        "Installing OpenAI"
      ],
      "metadata": {
        "id": "II1FoTEAt0SO"
      }
    },
    {
      "cell_type": "code",
      "source": [
        "#1.Installing openai\n",
        "try:\n",
        "  import openai\n",
        "except:\n",
        "  !pip install openai\n",
        "  import openai"
      ],
      "metadata": {
        "id": "OVZcz4wJiD0h"
      },
      "execution_count": null,
      "outputs": []
    },
    {
      "cell_type": "code",
      "source": [
        "#2.Your OpenAI API Key\n",
        "#Store you key in a file and read it(you can type it directly in the notebook but it will be visible for somebody next to you)\n",
        "from google.colab import drive\n",
        "drive.mount('/content/drive')\n",
        "f = open(\"drive/MyDrive/files/api_key.txt\", \"r\")\n",
        "API_KEY=f.readline()\n",
        "f.close()\n",
        "\n",
        "#The OpenAI Key\n",
        "import os\n",
        "os.environ['OPENAI_API_KEY'] =API_KEY\n",
        "openai.api_key = os.getenv(\"OPENAI_API_KEY\")"
      ],
      "metadata": {
        "colab": {
          "base_uri": "https://localhost:8080/"
        },
        "id": "vgEoHbVrigb6",
        "outputId": "ed043c47-51f4-4715-e0e8-7fe5ab90b248"
      },
      "execution_count": null,
      "outputs": [
        {
          "output_type": "stream",
          "name": "stdout",
          "text": [
            "Drive already mounted at /content/drive; to attempt to forcibly remount, call drive.mount(\"/content/drive\", force_remount=True).\n"
          ]
        }
      ]
    },
    {
      "cell_type": "markdown",
      "source": [
        "Installing gTTS \n",
        "\n",
        "[Google gTTS](https://pypi.org/project/gTTS/) \n",
        "\n",
        "Text-to-Speech"
      ],
      "metadata": {
        "id": "Uza0hIGaiMrH"
      }
    },
    {
      "cell_type": "code",
      "source": [
        "#3.Importing gTTS\n",
        "try:\n",
        "  from gtts import gTTS\n",
        "except:\n",
        "  !pip install gTTS\n",
        "  from gtts import gTTS\n",
        "  from IPython.display import Audio\n"
      ],
      "metadata": {
        "id": "5Q7tU8o4iJHi"
      },
      "execution_count": null,
      "outputs": []
    },
    {
      "cell_type": "markdown",
      "source": [
        "# gTTS\n",
        "\n",
        "Speech-to-text with OS software. For Example, Windows=Windows key+H, Android=microphone on keyboard, etc.)\n",
        "\n",
        "Then text-to-speech function (t2s)."
      ],
      "metadata": {
        "id": "IGbXiVyki6Ww"
      }
    },
    {
      "cell_type": "code",
      "source": [
        "def t2s(text):\n",
        "  tts = gTTS(text)\n",
        "  tts.save('dialog.wav') # for gTTS or Whisper\n",
        "  sound_file = 'dialog.wav' \n",
        "  return sound_file"
      ],
      "metadata": {
        "id": "x5O2hLdpjM2f"
      },
      "execution_count": null,
      "outputs": []
    },
    {
      "cell_type": "markdown",
      "source": [
        "#User input for gTTS and Whisper"
      ],
      "metadata": {
        "id": "ft-6KyCaw6Li"
      }
    },
    {
      "cell_type": "code",
      "source": [
        "#gTTS\n",
        "text=input(\"\") \n",
        "\n",
        "'''\n",
        "YOUR ACTION HERE: ChatGPT, davinci or any function\n",
        "'''\n",
        "\n",
        "#In this example, the action is run gTTS\n",
        "sound_file=t2s(text) #text to speech \n",
        "Audio(sound_file, autoplay=True) #play sound"
      ],
      "metadata": {
        "id": "7gKJdlk4jTwO",
        "colab": {
          "base_uri": "https://localhost:8080/",
          "height": 92
        },
        "outputId": "e654652d-fa0c-47d3-8dcb-b50a8350b1ec"
      },
      "execution_count": null,
      "outputs": [
        {
          "name": "stdout",
          "output_type": "stream",
          "text": [
            "Artificial intelligence is evolving\n"
          ]
        },
        {
          "output_type": "execute_result",
          "data": {
            "text/plain": [
              "<IPython.lib.display.Audio object>"
            ],
            "text/html": [
              "\n",
              "                <audio  controls=\"controls\" autoplay=\"autoplay\">\n",
              "                    <source src=\"data:audio/x-wav;base64,//NExAASaAW0AUAYAe/AZAHRx8M+B/+fwREEZh7Qfwz/D/gMgDg8+GfJ/h5+AiIIzD/H8d+Yf4AyAODz832/w8/AREEZj/P5/5h/gDIA4Pfv7d8PPgACyfPhdIABuQML//NExAkUolKMAZJoAKgD18c8rhbMSblES8eYDhAlgw3koO8eaAAlhyRBAtf9BpJmZKN/T63TdzQoIf2/L5mmYGDJ/9f+Xy1F9qf///5uXzRIu8x///6Kq2cZpeRFx/b3//NExAkUeRKoAdiQAAcKJPgaXZEgUc3Hh6oI3AMDqtNlyI5axkJMDAAhggAJsFwnxcwgASZsiYkHN0p00QacQU1Ot6c6bzBA4xsb0fqLpL7aM9XtfCP9/VaMGV1HZa2E//NExAoU2RKsAMYecAjmuUl96S0oDGt+C2yKvPQkKGoMxBDTkJ0JlkRhYDWoTAlCtYi7ErLmhdoEeBSFuLD3vdfeHmA3q9jlbIUTcsUQi7P+kckd7P0Ksf+LxGHAGCUm//NExAkUCPasAM4ecPEVAAydmN5Q2iiR6LfyiBBCYPEJkd+cY0FAjRUR3QdFDEAShkCHqhWHiehxoY4PHFXMLnAitb5ds+nFie7ZYoiQDT//6bXVVfMRTABZh92UWxPJ//NExAsTiOasAJ5ecJTJpgq7lEvCw5p4AFcMTkT8sKAIg8OkQveNPqnKXZcYNQcinD+AcgjoV6vUZ/H8mUihafYy2nIp4z1mZtgMIEWf//Uq5z9fElZQeW89PdsQ2YTZ//NExA8SiN6oAM5wcPpKP9I+zYkUgKcZYLL5ft9XJT2LpyjO3DMhTJAREqGaQt6VAXkWMlZDjr08OtKcOYpLNnQNhgxV//+L1UvQGfA1iQgxmPk1kiyzQxB32Nq3Zhpu//NExBcRYN6gAKZwcKgNGh79n6Z6UhU1O4fZXkiaZJqpQLK6eda0kMSCp6lirLb2cgsLUFQxr//xX/6Fvc/O6okZAccc4kvba1F3LEBgp05Bik9dwpY88QGFA9zeNNZV//NExCQR+N6UANYwcFnns3bOsHjMB1wyqzdh6ILQATo3Q4VZRTwVGXPEglHZj9rMApiW1r8Mo7A3AygKRmDiukFQJRVk7XF3yRIOS93Ar4Srmzv4tMVsRevIKIFTbChi//NExC8RgTKgAMvScGRvnDMmm1Grh1Pnv23F0naCE5Pt1//py5+vlRBU8jtTtbdQuGLlh2d5q2qii13vdTKtkDW897oOTqa0GgSJ6uyAaxemQJm+eBr/LEBoRo6ks4NS//NExDwSaTaoAM4QcIdfGGqnb/xVn/////9Vq87+coEPBpFvdSsOWEU46S5c8UQmQIsmvTEPMkVPjct3QSHeGovmx0xWJoS22ZHvkw29RJp1Mx1LU6wj3brib/o1qrv9//NExEUQiTKoAMUacOV2ZmnSNS1rkqtiNYhoRCvbrcmAQdcF/HsrlUSzwy3kyKrcHWEMF1LzSvtQ5p9/P7DFt//XPtXMj4e0C89gkusNRUGj32/XbN77amgLS7mhXaj1//NExFUSORacAM4ecBwtkfHgyRqjYZ4oCWq7MqrimmksGXsRfID1hp7F7BAIDj07TCNYt9NdVpUm1y9KfPyDrnRr2VoDHeQg1oU31N3/9/jb2nddENcDZOx5ChFGqirM//NExF8QqKaYAHvGTPor8qXzf+bKaoa7jfyhT/OG18GzHHfsK8J3o39/N/oKf/BV69vT0P/v2noJgZJtqevZ//PAedupZn+1J3MylTLDEBcLjkInlAIPjlUAg8gcaUH5//NExG8RoC6QABBEATJC8aG6wEJcQsFR7jNAlvW52E3VvJ0gXeeF2sD4ygiz0J6uS/yzYAfM+IhRLvohFXeu785U/KmEEJUD4WGQwTekPlw+fEAYegOi6ECTzk4bUcFm//NExHsRYO6AAGhGcD3qkC+l9uo4LHHx0WFmzJezG5+UQWmUbFBxHKwoAG0YWXTS0RwgsGm4OAWBQZ14CsQv/OKa+s7q/V9X8N9ZOIgAIHAagcgcFnzAuiLT2YWNYgse//NExIgRQSKMAChGcGQuu/F0tVUXMT3xNXCdTBQRArAOHakDhOXDqFqQ//1SIa9DOkqEgosN1ZRLsv41Uy87FgVpUsWGc4wsTORCYYlbOpRtkli/5YxnX3nyoeqa/66E//NExJYbCa6UAMvQlDNG38pxToarYK5H2F2asaPslgRh+HcpyCWbAkjpNSkoAQD8v9oNdHym7r33VfzZ50283i6l6a7Wsplsi9A0frOBBrkP///TSljlIOMGqr//+6pr//NExHwdif6cANvWmI49vMcHpMQXI7dPM2OgJFr2PCdrbOjwPeRW61kqf5NFoClvTRHaOIsVrGFHnSVFkCzIBgnSLyCHu3UyfqTfaZMgykTAvpp1JGJhpEEjBZuz///9//NExFgWwdakANNamFfAidYfqOrnNydahL7kdadFTjgpkyUcMwL5uYHhgls+bemTz3Uw/FutZTBWiEyKlj+NvY3ND+owH0eZq1RcfqQWv7/Xr5szqVMzRPPFz4JN3bP///NExFAVEcakANNalP/9cNIq3zW7SkVBruGm7o2GkizsTSAIlkLM71o/9elt6HcO8E53IqWfVMjRBkBohpYIDiicOIwgAAIACMOwQAU0cJhwOi0eKMdfs0Dix4WiMpfO//NExE4VsgKwAMCGmFn3ajn9aYfcXq1MBcpubdv////PzBHDmKNSB2SUcUTTOtm2Lm0Z1aedD6VLoyARljy6CBE9Vo21AfI4K7BGnAuOYzadRmgxJBHW5bWPzx2fhdZk//NExEoYUtq0ADhSueO1tz3Nh5s+E5evm7mfNy/1BEjTrQRuqv/////vzf+Zd+PyG5myW8tk2j2T4R2aKeoSI0hJmyw2tAhevEte+nZe5KNNpE5JCVMWw0su9YOmGuuI//NExDsRkdq8AABSmK32jCgDma35cDNmKv////58iMjmgQ7TJl2RONCilYm9nHRINJUXZceUGYkSTyqQkiimW9H1UuvLKeWj1612+U+VH3+zSR2/cxvF5lsp1Gg1/Nt7//NExEcSikq8AABMuZP/TdUH/1/////OI/9///+Zm9nz0+HoiUDHNj78fKSk5rARiifYSZqNNNVp3kgkWaFR4JBUNTQUXXET3+pqv7EOOsLLp1qvf57RDEJjLcn9aSAR//NExE8Qab68AAhMlKdRcSK5iM0KJRegT2KPYZNSEMnAVit7CaNtvzWrX/NKj6GcpimYjtR39t6kAjuhQlrLBUUoF7+n////8xWrf/Q4ZOCFVW4GuIDiiqy1I82nb2Ge//NExGASWXqsAMJElDIFPNelzcPhDV0pkyS9OOa+d4/0YXKLCVEOLJJFAxsjCgxa5OYQKMCosTBx93r9FeL1KqbeUpMI0oZ6YpiPBvZqZKrYO2j8op0OzVrfG8MJx6gA//NExGkSCLKoAMYeTHsljDeQ5kFr5hzfWJ8UVusq/KnTzojeKPupqeLNlc8ojF/1VaLLk+bvt/deAVyaM3RzkbFZJMnosqAwIuTfGG5kYYpb0OHd3XcY5a/87PLfO//8//NExHMQyLKgAMZeTATyZ0EHrPVHlE/o/lv///1rkXOwSZVpFonEAuzPGIlziOIa6QUD0SwBBAD2UUSeBD4WKjQSAggE2JJE2JUqs6Bd6n/+nV////7kd1gUsG4xhkAk//NExIIQAJ6YAMawTB3/////1ZmKYW0EBogWx2SIfmJzpZpWFXRhyMNdL8U8GFl5HdegtQrqv26DlRiHowFjMsvQQmJcqXreP6wx5/4aN7ZG///uRVYIDRA8wKtyhj/+//NExJUSQXKUANSElKLqn9TJKUAz+NWE/zWKmoQyIip704HA2qQKKjWNlD5XtrkMr2tUr6MjYjIXrVWftxYNUvQAQDI2QM0sYT+PCBzqyqcfo3Jz+iRM6CYmDBApFoYe//NExJ8TWWKUAN4ElAQLknif/6RYiIxr2//7zTCFq2sVzFDlP0IoDGZA7fTy9A00Rxo6gx9ajgz5sSEgdz4KBy/PmLraTJasocpk+aLgryCnW+gpengOFdYFO96qXX0b//NExKQYaVKYANYKlLo7lgWkQH4fXwb7rN9/CzIzH3Mx8//9DRjetwsTQ7//7G2sYlWMfiMhx7VfjY4gBwelcYwFI0BlsVdFkyzRIkYj6kQ/HyddPhQb/Us3wup9ZM9C//NExJUZkeKcANvQmLt4UYwScqKOVGud60Of5tdAeqBeUUHSd+3R6q2OH0J14v1D/vcQAn//+mTWhalvYrHBddYi7iraARYSEmDCGbrGJNJJslglYV8rEtIm2LXxbfLu//NExIEWoaqcANPalPn1pf37trv5WeZTNm/My0Gvs885dQ6p/Vnzf27yUUO3CWPQojTqlXWdR77f///1Ki1M/RCtWJwbNo0IaQat04R4TBKAGdh65XscxXkRF/d6jz5Q//NExHkVSUqMANYMlMm5lWaFtpi+5JnKKgS10zH1ZqdYfZ6Edl+h/uG+mcuw1IRBEl//9T/////1VTCggu+DgswLbOvNFWtaEeIeKCKEpRGFlCgjgO4+NPT13CVhyvXr//NExHYTyTp8AN4ScF+A8PTYHBaOYvi45qlkd/NcqrbN7X/Xt+aUb////////0LSMr1NhkMgnPEjAghhJsfRYIiIcawqnOIxgs5UGR6lYkihIjJTKYeh5IgthiQyXIZm//NExHkSOTp0AVtAALRKRpGDEsJAWh1k1IInTA4onkMeZUUVEkgbqWYl1SbuPAe6JgaOk1r1rqSoJpKUy19P7Lb9NBBkzdJAuf///rNy+pjRMDkDl9Z1P/WD5AE0nE0W//NExIMgal5sAZpoANFSYRWUQpOoQH8JzRM+dhxI3avd21UqY5v3M3HTHQxvqLqUx9znop9OfUw3qOGM9iJs9tHUi2Ph73zHHsS3W5NNVrzWKLBtJSc3vfs2Tb3Dse1I//NExFQhqyqsAYlYAGSLR8NUjcd7XjvDwQAjimYAkk5T+Kru7/v4Nz66o73oGaD2MHZ77Ky0yBNNh0IDfB84gnK3ufUe+eidkd9v//u8iO3uqkZ7IehDMcMBiDLRf96S//NExCASQl60AcIQANFcqHZ2HCgTmOQy0cpctlVWvq2Z9WKYxncM6+FQ2OAo2WlSSjxZ8rWNKusoBgu+NNynHUbyQcUEAcnC7cR2ydLc20cVefkjQaMYZxJeABEiVy/J//NExCoR8f6kAEoGmMWamcNjXL/eRL/+XJ12E3prtfLmbfRaGE6r////rs/+aVjOBJDlg7JZtobA3sg+xY17beXMhbHGxljVElNSRP6JtvMle/AePwYNBu62w9c5WcZJ//NExDUTmSqoAMPYcPtxbauQy79ZYBQOtc5KRqO0k925UMqiglJ1w/V2dBi8buObECYd76zRUE07lGG6hY5EPD9s9dXn/WcM/wqLwNuYkLxBQ8mjtHaR79qc+kbztlp+//NExDkRcQ6wAMYWcNhZET7936nfcWOEUaFXMgbzEhUoSIBrkeGcpAh0B873BToWnDcv+OsSZZDl7dKxHIqKSkyRlKG6OFyZ77s+ze+cR8BgNPC5YaPBU+59X9Oi/qrW//NExEYRoOa8AIYecKVuiToIw5eNwj9Hy5B5VMflNBrWmQlyVAmmYcj0XVglduFuA2hXkM1JIcx8un0XRU7bKZNrrZPqqfSUmiiXWSOm7nf1lSyU7GVSqPw/DMsAE7kU//NExFISgUK0AJYacLtWPDBYpIr2XVdo7mQijRPvONHMcdLb1c4skoUDkhItj8Rdp/5b3/yzvf/yv8v1/+v1NMZRIt5E7nqDz3mVL+sz1JV9WadELhBrqCzapWjohBTM//NExFsSeWagAM6ElDbIieYsM/BgUwqgXnP7Wm27EIEx5yJxtksER9HWEf+8pnX///j//r9H////XnKFEDavg0CShK7TkOsbT6mFn5sJItegdpWgw9RNhlhIifmXthiw//NExGQSOXKMAN6ElBNBIruLS0MzCkDxeygj6AsxheO3hKIc7j/65/93/90bu////7bHO6nZ/+d+osL+tcf1dYQLhg+xmtAALHpCChWaxxhjUExorcvRw1VFeIrHx+qF//NExG4SobqQAN4ElJZFM4LTpjLeJuj9t6vj0Lgc0n/8uHyYQWfb3/T//JrL/kgUQSClU+zsARGUS/EhMxNkbrbGii+oTEgRGa0O7VKyxVFREzNCJBcDIepCSm238Lkm//NExHYQaLasAMZeTCzXbqMhcEygdEX9AGGNb9ezzbwEU7sQGzo2kjsFa47Za8FhYjRV4Ih2W6uXcdbrY445Y4/WNmacibAVA4GBYJcGTwFUkm/KzwqFRUq5/8ez//////NExIcQ+MqwAMvScP/pkmWTqWgMJjiQBD8KBZgxGIiYmHRoCCoiGBIkAxpyVYZNu7O6pvrdxltlnn94rWrTTQosJOsBNV4l8FQEpZ3/U+IvlXfnv///IyRVU82hQEW9//NExJYRgNKoAM4McGfqwuKKAv0/zOXUrvlI918aij59qFK7Ks9bXJI0zrjioiZtN97KhlIUigyaUSdr3FcbChyZI1TSCCJhNXI72UcZTGUw4Ukg6STRqLCOTgJDcN6h//NExKMSOMqAAVswAEKGbK2ez6VkyNaOtmp5Qk3iZhZ/Uf/X1//zzPM1M8z+xpw4sXso+yj9VRANdBw4jCQ0VIl6/0vM5MzMzMz0zPzecpTIr9PZ182dpA5S8rKrDuiR//NExK0gyyaAAZlYAA3x3O06/kP1l1CtWYoBfOhIOz8uBwGzpIPB0JCdzVxcQ0wFycJ/t6oY5Y4vSRR4xW2x1vbFk+n+8OU3/5uNfHrkz3y232dLSxy8GbsbbD9Phj1t//NExHwhkx6gAcVgAKi9Y2s2TtHzFX9VvbZfFK7lJWP9wQ9aQyLf/n/3/1/o86FFi2R3K01rjK4byjjjU0JCueafNlOJaZWQPEpgiArlxKqBQjDhcTIRg1UURFXRMbGS//NExEgdev6oAHiSuapSJZOUJkSNBLJbBu7lNncnFrJx/rbuPlK79344m65+V3GP2ErqeZfxG/lYNyqpuYLCRXEDrIB1BvrYVagMnfkzcDMsAlVErLnztXp8j4cO3XEe//NExCUaAdqcANISmFAKEVgWAMCDYO4im91r5WunUFWScHYNGyOOTdOCWVjFM97NqtNJxc0q7cyCsb7NPpXgqo9HhoiRbV/+qs7rc7O3SJKlymTBLY7deIHNz10V/SEG//NExBARmTakAMtMcVoBiIM6HG8fDaouPUatVn8b7Q/PnTQpA0EBcx19la2q+R/yuaUAc0HeEk8vlfNKTz5z+fjcdlWVYXw5WR4JvjTVHLwZ6l3HfmHfUci9yo6ngf+F//NExBwQmUKkAMvWcK+K/Pwi3T+CBKXIg0bNPu9fq2t3cQ1rmw/OxmkPYUl+2F9Ovf9FaquMwZ2QisQDUEybscHE13GGGqtldiJayjdeFLvtdL/O+s/lmLyuYWQkAqHs//NExCwR+NKgAMPScAVGCYAgou1wiWIQeJB9xJqvhxKCUWG/9v///9VzIgqiK6ygM2VkoPMM3EYQz9AcEG6doN2LOynZEYldPuExT+DNelju05zSNZMGgEJQqUWdnx2d//NExDcRUTaMANPMcPM/+//tnZlw7/+zU//llWDqOAwYfwCfcmYECChQnmUiiIKrjWCYKvNkaFq0k/u3NNOtcrZ4VIgd+o0gx9HR1VjPLYhpc32IUQESEHo3/+n///////NExEQRUUJ4AVooAPrVMDGj5SoxYPAhAHF5jAyYsHGEjS8iwJp8pKiQhTkQRDTlQ2AkLTgtsSgXCGFcjJLD8nPPG5ANiM0sfY88nPc0LpSImR0RZguIx5U5SA1ZQfnf//NExFEfsyp0AZtQADqpdWRiIjO/5lb3U/qcWQ7//pmbdamsqx+e6f7K3/7nvPV9FOeeRkw8IEKCIJEiZJJC0FUj2JLPZS9wXr9al76b16v92ZCtXru1v/9mb19X7f9e//NExCUZmyqcAYloALop2pvUrepk0nr7LNys3ZN7KUZGqSBMRN10FpKRdAlDxfHu+pFAoGptHGSA50TYcwgHOmZROoHx4hzRli4MolwcSgNf/ev////v/////n3///+3//NExBESSyKoAcI4AP9NP/6Iz9MwxTFMMOeaeek5XFh5NT0QtU1SpUuw1LiU4oBYLQCxoEIAoTA+HgXjQOB+o1HyYTj61S6/z/nX//+C05HNf//MlV///+nlX2X909Lb//NExBoRmyKwAAhKvBmkrVWmHyqRZ0opEVVGGIPFWGOpBFRih0UCSHGiwFUDCDGEBhjKUVAUSCIsysb+FKiu9UdWwWgY9DpbsDHfPDP81IINndmV7pyNzvEwIIk/R/////NExCYSIuqoAMFEuZyVq3///6r//N//+3lVk+/mM5S0qVBTm/MZ1YzlEs9Qmwpq5ltTopC3LBwI9gWHNJMf8CvC3IpqTkMOtMy88zIk8wLtZYrVlg2OoQAWhyNAXD66//NExDARgTKgAMyQcCFrRe3b5bpPuaOkxr//zP/+j///7BaITs0FmCe6lVnNGUbRfBiZ6YhDUAtnfG1Iio26K3es1n+59XkxKJMIJWGqEMxB0T3z8xX9THbY5W//m7Gf//NExD0SAS6UAMvQcP5vIobT/+/ggTaUpqtQRyRqxZ6mq/NqCEHnmvVrXfEHJ5i/88hCmhf///6r///2/r/9/+tqbkpRGtX0I6vdFOqq5AZzqY7hRY4BUINIqiiHFqwd//NExEgSev6gAMBEuSX5PONCIkt07f////+Rf///n////6fXX36f6b3VrnH1dGMnuitqy4+XPRxqqkhbH0HQoEg2GhziYHjCwbnC08aikkJYuBaIAIioICCqEVOT3/////NExFESqx6kADhOvf//9x9ef////////9aLs9c2zpPcyehjJU2crO9mVz1OUseWsZIGFVLjVUB6Xjo2G1TxgoQNHh0VhIIRYEYtF4LBotW3hissMO/EnCwgMxworP28//NExFkSCyKsABBOvD7mHzn06f//7ag2VznQhG0+k53////qX6/KW//8tFunf/2NqwYGJ9vdalEoGFFKpByl0MUK6ElBlWc2816DY1yWgq8BuwU3QVXq4VwFyWgsvUm0//NExGMSEv6oAMCEuSbtqdq+jVTwvI1awLB4aEIjg0osG6eZZMBxeQaP5q97/r+Z5ZEIF//72FEWf//+UXitxIKJhoNLHxMZLh9/3DGAkvwj4OFigZ1552v989tfd+d9//NExG0ScZaYAMqQlPU5gASPJ0kvNXm7LTVOcF0Lpu+ne+uG/uhyatmH//oMU///2dxRndxAwKgSAU/iKoyB21KAxK9lu6KzKGZWcamac/r6HQ7438uoIHKLhGAqzAYD//NExHYSMZacANHWlGKkOLMD8IfKFp4b/+L/5iK6KFm//+3///6ldGmbqYmGNOYUIAgJakyRfANEAqOSRrZxGcYZ2i1GubdItqQI38PaCOTqMF22nLqVMyKm0RclQhUE//NExIARoY6YANNQlFjbaMyRCl1oWeo96OxQFs9aToULa+dBun0mYBThxRTK8RGICGRyvQTJq2bDhzZTI6lYbj8T/METV8KJo5aFbDPJzCnlMZRINFWfRvqBp/1aHfv0//NExIwSaSaMANPScKv///01JQmLQAM7Dxy5lNkenLxk92W01NvmWQn6GODsvNyOSnxugkYJmmBd0ZrXKx3tPX36ZKue9yI2tDnrV3t1V7br7+3+jk8lPqfS/7uhB5yh//NExJURmQ50ANPEcCbNp2BLFyWM7GxC1Z4zzVL+XrZdsUha0GMjIh2gxD7ZNwugZ6IWINWQjyOZb2kbloTiqHluX2wy2XPYe09O/C9t3//+WP9tmf+n/u3Vt0b/z/bn//NExKETcv50AMhEuPoDEZSmzVaC686ZJ48I+yO5omluH6EBBwTCSLH2xtaTAVnNqY3gobdhrDLI+FTTdVElIoFwwgeCqUHJwaD1B6fbTKecjby5iO8w+Z6aCGHoIueQ//NExKYWeUqAAHmGlXMRnEbLFVW2FykEF6WpNiCNidJAYCtmYmOhGWWrFTDoMe0JmKVmRXHeNKhVuCxdAHOkgcVTBxuMAQORG4fl4CAjs4Cof2SICdGdE/0/EvyntUQN//NExJ8V+SaUAM5McKqQ8FDHcBRxtSxOJ3mpMIZlTl0ChA20uFkO9CpdxXQWa0gQ48XyLBFKx6pXxQUk8SCr4GIlbvBciEwyIhTViN4J8mct4444EKFuYUIarpWVeraf//NExJoYiS6gAM6QcES1ZoMpgiICyF3XMeC54JOPHTz3fXXf6bGhdng3YIe2mLIi0TTM4+DD0N3cFBzenAx7D26AEBqy3rSg4chZmpUA4HA0YkyopjGvq3///qpqmHD5//NExIoTGTqwAI5EcMLsMUVV0HCL/6611z46LQsffQxGmJ3dKEAyfCSmMGByGrO2YjJg0Xof5CcD3Ar8ubkoM+9P9ySgIsD6m2f/WLAYDAoWNJNMZe5WSFCtG662panM//NExJAR4T6wAMZOcOYLRMUzwYGMNfrGPCogx9d6GtGHnhgdxmAt4aIStaDS9oVGA4nL9W4cl/7rX//8e//5fqnr7//z5SOZDBR/L8v9JlNFAeex9Nf0vju5X3i7utHR//NExJsRYJKsAMZwTNjcXLrXTBwkH0i7w96fjqUIpzAzqBnjVSMHQk78yhhQFJb5qmaF//VnP/6v/+rnu3T3/19OYEOyHB1oN8r1MJ+1YwXqDkFKz0SHhKHHtoq/+qqW//NExKgUOVaoAMaEldrlssirXZoGVmZC2bKIgmtm3s/WFMdTV+6seWSJOmmN9TtUQkwnLGP83+69n//H//WPX1////vBg1fLYNQ5UDSgVQxzsrCwdOV1hrmEyBZHO5JR//NExKoVUcKgAM6KlAnn+I60sScPwNRmMOmpA0aiIaHHSFDy/LkwEp0htGp75XgYEso///+HgaFVfrR6Ap+WS1SkqoLtaVTO0RV5FlDzaRRcyxXZR1QgX9DsOAVBb2KS//NExKcSmVagAM6ElHT2FKeqdOBqicox7jL2hUcw8HkNeh7xdjf9yrtvtQW9SH2ViEidW6+h/9NV3TVR+1SvqC+v9LIu7UspY0iCqO7qHEgov2NVLPZTrnQsmc7rkZjv//NExK8PiIaYAM5ySJN+kOPe8MJHkjFF4obJuxdVMqpjYu8XGqtk39dK/W2bNSyJWgNqOlC0gXEKxUE8JoPsYinMwkifbnDcB/PqU4nXdqfRZuEGFhBg7CEo4wmgYLBu//NExMMSmIqAANYeTBpIoowmuPPrIPUvQt5lUXesD2/6v/0dX+mVVJWYd6msOjBhiEsVphQMi7LsjIZphrb1PjwV23saE2IBywpM1u56tSk8zColakCcHesKBkPMmoQ2//NExMsSmSZ4AMDEcBjHa9e3aysSRHq77jZ/3/+P/+7QyjZT/en/////qorfPMzJPcEHIK23cG4X9EwDCJHfH2NTtSGLX4SuzuId/8O+DXtZpd4Zc94CgyMgayArZm+C//NExNMRgMKMAHvGTG071COJ7SN7MwQccRS5+KhwuAzRtP1E7/////+mse9QjPWnAC5SF1TsX7IZ87MU+wdxkqYW6o/G06a5r9fRRrNcvHmmgeiciHldgVjvs+d0zz4N//NExOAWIYaYAMvMlC6ebPNCTUvri72X7vf3E7O6OOX96Lf////+LYenFlmyVIm6g39qNAwsi9l7DCR8crtxq7eNi3eUNn8f/VHlzL6f9V/H+8/l/HYqgMCQWACUmhuR//NExNoUMSKgAMZScMiiXLE2iJFJMyu+8RMaoGi8i9yPUliydhoawUIb43R5JKQBc+BlMSnwOs3956LmSiqnNvCD7eFHz8J7dyXyI2M+q7//TfaA+EY0JwbTIrVg1QaW//NExNwUOZ6gAMNWlKg1B6v/UpbvlU1d7xlUyNLc2HJcHIvQCTFEBSLCIAuoICT0Wfl22rtmhSMpE1SQWyjtHS8rRCBsqwmrgbMMKi2lEd7jcE88V4Wy0yjgtnU1aUGj//NExN4TKTaUAM4ScGw4MrMxf9vTAC0/gssKu2J////kWkqljsjC4GbiIEwMIBA6YhCCVAiZQmhgq3gFmCmyaCYzZYylc91doL+zcWyxl1Nas8EwgZiVEjoBCeLaZzaU//NExOQR6TaIANZQcCKLCiHG71iBbjOkRFQqIWszseBgKAWIztdLhGBCpx6cgstc4IVbadCZqKkefNfK3I3Gb9h/aKdmNdbEiHFW1C29N1eN5OpY5ETkQVcFUno476vx//NExO8X4TZwAN5ScFNXp70O6v///0s//0f9KjBwxmgULzmlAwQBMDJjWZoaFBGIGWLI0RpkCpiJH1n1f9L5QtOh2VeyiasV8ZTcz5ssIz6EKB2tK6Ul8csMHSUND52q//NExOIRwPZ4AN4Gcer4fhaoormSbu6nT/9WigIXawIkx6voQAEI8L5QzLCBkGWul0cItlhnaqlYZIGijLqphbpZttUaV6JYI4nSExFOkcJqN3SSl7FNVgwsiY/nc686//NExO4VmTZoAN4ScK+25fHmWfE9C9+7YraxRFMDAUqx2IeFYsMDRZpgqjriOjRVgcDNUpLhXWjssJY6qIV0HehRw5A0gOQHWJYqBsLMibHwl1KkHi1XbRa/K8Oprm3c//NExOoUoTZoAN4QcFTDThJvXQoEgFCoTE84SqqmQPCLOuOkTBzAmhLlGwhFoQk5cPx1HotElzErh9c9TKzFDLI5KybRc8y9CYmAIDCSgo5IiYsiUsi6Nd8r9nmt8wSi//NExOoU+TpgANPScLzJyzTgs/HgIl/JHoUeugTPR8OIHy1GdtkcrACiQocRROwPCEemHdATu7ohi0IOQsxi7erAgeISV4D7Qoev1OIzmWZ+w4tS+SB/4l2vd5G/7+3e//NExOkSWT5cANMQcDP/2Sa/9f/N6P/mcC33d2oKkIMBciYRGRWHkSQ0lNwpMQWYkw13QzEmgcHNuKoojR/opmojduTJoeH3dciJCcf98Cr6ZGNJKuBkZ37cs1Xg26zq//NExPIWoWYoAMMMlG2ln6h0xpiv0cv9v2t9fNbqH0dZLWpmfAYBAgliWmw0QlCURIyVZ7Mg+EhIDJlZE7Cj1gISkmBICgiR509/CoCJEWtCpnCT/Kli2oDD3MWtxYSk//NExOoU0On8AGDGcSeOwkPcWVOvip095WoV0ojfOhHrC0yvoUF89Yk6OQpDQah7JB+oRqVzLMEMG4y0hobDdL03N3PL+yWWKGCggQNHSyyUj8pbPrKCBgxGc+FRQW7P//NExOkU0Jn4AEmGTdYqLNiwuz4qKigkNfULs+oWJ0xBTUUzLjEwMFVVVVVVVVVVVVVVVVVVVVVVVVVVVVVVVVVVVVVVVVVVVVVVVVVVVVVVVVVVVVVVVVVVTEFNRTMu//NExOgTkGn0AHmSKDEwMFVVVVVVVVVVVVVVVVVVVVVVVVVVVVVVVVVVVVVVVVVVVVVVVVVVVVVVVVVVVVVVVVVVVVVVVVVVVVVVVVVVVVVVVVVVVVVVVVVVTEFNRTMu//NExOwV+W1gAHsGlDEwMFVVVVVVVVVVVVVVVVVVVVVVVVVVVVVVVVVVVVVVVVVVVVVVVVVVVVVVVVVVVVVVVVVVVVVVVVVVVVVVVVVVVVVVVVVVVVVVVVVVTEFNRTMu//NExKwAAANIAAAAADEwMFVVVVVVVVVVVVVVVVVVVVVVVVVVVVVVVVVVVVVVVVVVVVVVVVVVVVVVVVVVVVVVVVVVVVVVVVVVVVVVVVVVVVVVVVVVVVVVVVVVTEFNRTMu//NExKwAAANIAAAAADEwMFVVVVVVVVVVVVVVVVVVVVVVVVVVVVVVVVVVVVVVVVVVVVVVVVVVVVVVVVVVVVVVVVVVVVVVVVVVVVVVVVVVVVVVVVVVVVVVVVVVTEFNRTMu//NExKwAAANIAAAAADEwMFVVVVVVVVVVVVVVVVVVVVVVVVVVVVVVVVVVVVVVVVVVVVVVVVVVVVVVVVVVVVVVVVVVVVVVVVVVVVVVVVVVVVVVVVVVVVVVVVVVVVVVVVVV//NExKwAAANIAAAAAFVVVVVVVVVVVVVVVVVVVVVVVVVVVVVVVVVVVVVVVVVVVVVVVVVVVVVVVVVVVVVVVVVVVVVVVVVVVVVVVVVVVVVVVVVVVVVVVVVVVVVVVVVVVVVV//NExKwAAANIAAAAAFVVVVVVVVVVVVVVVVVVVVVVVVVVVVVVVVVVVVVVVVVVVVVVVVVVVVVVVVVVVVVVVVVVVVVVVVVVVVVVVVVVVVVVVVVVVVVVVVVVVVVVVVVVVVVV\" type=\"audio/x-wav\" />\n",
              "                    Your browser does not support the audio element.\n",
              "                </audio>\n",
              "              "
            ]
          },
          "metadata": {},
          "execution_count": 14
        }
      ]
    },
    {
      "cell_type": "markdown",
      "source": [
        "#Whisper\n",
        "Transcription function that can be extended to translations, for example.\n",
        "\n",
        "[Whisper documentation ](https://platform.openai.com/docs/models/whisper)\n",
        "\n",
        "[Whisper home page](https://openai.com/blog/introducing-chatgpt-and-whisper-apis)"
      ],
      "metadata": {
        "id": "3N7fvCiIktT9"
      }
    },
    {
      "cell_type": "code",
      "source": [
        "# Whisper Note: you need to be using OpenAI Python v0.27.0 for the code below to work\n",
        "import openai\n",
        "audio_file= open(\"/content/dialog.wav\", \"rb\")\n",
        "transcript = openai.Audio.transcribe(\"whisper-1\", audio_file)\n",
        "transcript"
      ],
      "metadata": {
        "id": "Q8-6y7w5mXEW",
        "colab": {
          "base_uri": "https://localhost:8080/"
        },
        "outputId": "a7acb722-2fdf-4e7c-842b-69da2a104150"
      },
      "execution_count": null,
      "outputs": [
        {
          "output_type": "execute_result",
          "data": {
            "text/plain": [
              "<OpenAIObject at 0x7f6e7a7c1f90> JSON: {\n",
              "  \"text\": \"Artificial intelligence is evolving\"\n",
              "}"
            ]
          },
          "metadata": {},
          "execution_count": 16
        }
      ]
    }
  ],
  "metadata": {
    "colab": {
      "provenance": []
    },
    "gpuClass": "standard",
    "kernelspec": {
      "display_name": "Python 3 (ipykernel)",
      "language": "python",
      "name": "python3"
    },
    "language_info": {
      "codemirror_mode": {
        "name": "ipython",
        "version": 3
      },
      "file_extension": ".py",
      "mimetype": "text/x-python",
      "name": "python",
      "nbconvert_exporter": "python",
      "pygments_lexer": "ipython3",
      "version": "3.9.9"
    }
  },
  "nbformat": 4,
  "nbformat_minor": 0
}